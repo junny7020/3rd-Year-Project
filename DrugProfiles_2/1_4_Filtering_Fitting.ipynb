{
 "cells": [
  {
   "cell_type": "markdown",
   "metadata": {},
   "source": [
    "## Filtering"
   ]
  },
  {
   "cell_type": "code",
   "execution_count": 10,
   "metadata": {},
   "outputs": [],
   "source": [
    "import pandas as pd\n",
    "import numpy as np\n",
    "import os\n",
    "import gc\n",
    "import matplotlib.pyplot as plt\n",
    "import time\n",
    "\n",
    "from functions.filtering import *\n",
    "from functions.plotting import *\n",
    "from functions.fitting import *\n",
    "\n",
    "_FOLDER = \"database/\"\n",
    "_FOLDER_2 = \"figures/\"\n",
    "_FOLDER_3 = \"results/\"\n",
    "SAVE_FIGURES = False\n",
    "\n",
    "R2_limit = 0.99"
   ]
  },
  {
   "cell_type": "markdown",
   "metadata": {},
   "source": [
    "### Original data"
   ]
  },
  {
   "cell_type": "code",
   "execution_count": 11,
   "metadata": {},
   "outputs": [
    {
     "data": {
      "text/plain": [
       "(225384, 28)"
      ]
     },
     "execution_count": 11,
     "metadata": {},
     "output_type": "execute_result"
    }
   ],
   "source": [
    "drug_curves = pd.read_csv(_FOLDER+\"normalised_dose_response_data.csv\")\n",
    "\n",
    "if \"Unnamed: 0\" in drug_curves:\n",
    "    drug_curves.drop(\"Unnamed: 0\", axis=1, inplace =True)\n",
    "\n",
    "col_to_drop = [\"per_slope_change_\"+str(i) for i in range(8)]+\\\n",
    "            [\"slope_\" + str(i) for i in range(9)]    \n",
    "drug_curves.drop(col_to_drop, axis=1, inplace=True)    \n",
    "    \n",
    "conc_columns= [\"fd_num_\"+str(i) for i in range(10)]\n",
    "response_norm = ['norm_cells_'+str(i) for i in range(10)]\n",
    "CCL_names = dict(zip(drug_curves[\"COSMIC_ID\"], drug_curves[\"CELL_LINE_NAME\"]))\n",
    "df= pd.read_csv(_FOLDER+'Drug_Features.csv')\n",
    "drug_names = dict(zip(df[\"Drug ID\"].values, df[\"Drug Name\"].values))\n",
    "del df\n",
    "drug_curves[\"drug_name\"] = drug_curves[\"DRUG_ID\"].map(drug_names)\n",
    "drug_curves[\"CCL_name\"] = drug_curves[\"COSMIC_ID\"].map(CCL_names)\n",
    "drug_curves.shape"
   ]
  },
  {
   "cell_type": "markdown",
   "metadata": {},
   "source": [
    "## Filtering 1: 4 stage filtering"
   ]
  },
  {
   "cell_type": "raw",
   "metadata": {},
   "source": [
    "# Description of filtering_sigmoid_curves:\n",
    "\"\"\"\n",
    "    filtering_scenario = [1,2,3,4]\n",
    "    1. Ensure that all the response are less than 1\n",
    "\n",
    "    2. Ensure that first and last points form plateus\n",
    "    the minimal number of points are specified in the function arguments\n",
    "    by default, two points for both lpateus are considered\n",
    "    tolerance =0.05 values to ensure the points form a plateu\n",
    "    first_columns_to_compare = [1, 2]  - first two columns for plateu\n",
    "    last_columns_to_compare = [-1, -2] - last two columns for plateu\n",
    "\n",
    "    3. Specify location of the plateus - first_points_lower_limit and last_points_upper_limit\n",
    "\n",
    "    4. Cutting off ambiqueos data:\n",
    "    Among all \"middle\" datapoints a subsequent point should not be higher than antecedent by 0.2\n",
    "\"\"\""
   ]
  },
  {
   "cell_type": "code",
   "execution_count": 12,
   "metadata": {},
   "outputs": [
    {
     "name": "stdout",
     "output_type": "stream",
     "text": [
      "Original dataset: (225384, 28)\n",
      "1st filtration (Ensure that all the response are less than 1): Filtered dataset: (63325, 28)\n",
      "2d filtration (Ensure that first and last points form plateus): Filtered dataset: (6321, 30)\n",
      "3d stage filtration (Specified location of the plateus): Filtered dataset: (2152, 30)\n",
      "4th stage filtration (Cut off high ancedent points): Filtered dataset: (2108, 30)\n",
      "CPU times: total: 656 ms\n",
      "Wall time: 646 ms\n"
     ]
    }
   ],
   "source": [
    "%%time\n",
    "# difference between middle points 0.2\n",
    "df_filt_1234 = filtering_sigmoid_curves(drug_curves, filtering_scenario=[1,2,3,4], \\\n",
    "                        response_columns = response_norm, \\\n",
    "                        first_points_lower_limit = 0.8, last_points_upper_limit = 0.2, \n",
    "                         middle_points_limit = -0.2)\n",
    "df_filt_1234.to_csv(_FOLDER_3+\"filt_1234_02.csv\", index=False)"
   ]
  },
  {
   "cell_type": "code",
   "execution_count": 13,
   "metadata": {},
   "outputs": [
    {
     "name": "stderr",
     "output_type": "stream",
     "text": [
      "100%|█████████████████████████████████████████████████████████████████████████████| 2108/2108 [00:03<00:00, 633.77it/s]\n"
     ]
    },
    {
     "name": "stdout",
     "output_type": "stream",
     "text": [
      "<function sigmoid_4_param at 0x0000024E37FCC900>\n",
      "(2108, 30) (1527, 32)\n",
      "CPU times: total: 3.56 s\n",
      "Wall time: 3.53 s\n"
     ]
    }
   ],
   "source": [
    "%%time\n",
    "df = df_filt_1234.copy()\n",
    "fitting_function = \"sigmoid_4_param\"\n",
    "\n",
    "r2, fit_param = fitting_column(df, df.index, x_columns=conc_columns, y_columns= response_norm,\n",
    "                               fitting_function = fitting_function, default_param=True)\n",
    "df[fitting_function+\"_r2\"] = r2\n",
    "df[fitting_function] = fit_param\n",
    "df = df[df[fitting_function+\"_r2\"]>R2_limit]\n",
    "print(df_filt_1234.shape, df.shape)\n",
    "df.to_csv(_FOLDER_3+\"fit_1234_02.csv\", index=False)"
   ]
  },
  {
   "cell_type": "markdown",
   "metadata": {},
   "source": [
    "## Filtering 2:  auc>0.7 and spearman_r<0"
   ]
  },
  {
   "cell_type": "raw",
   "metadata": {},
   "source": [
    "# description of auc_filtration\n",
    "\"\"\"\n",
    "    1. Remove all the curves where the normalised response value is greater than one at zero dosage.\n",
    "    2. Leave only those curves with an Area Under the Curve (AUC) >0.7.  \n",
    "    3. Compute the Spearman correlation coefficient between the normalised response \n",
    "    and the scaled dosage (so the x-axis and the y-axis). \n",
    "    4. Further remove the curves for which the Spearman correlation coefficient is zero or positive. \n",
    "    5. Cut off samples with last response above 0.2\n",
    "\"\"\""
   ]
  },
  {
   "cell_type": "code",
   "execution_count": 14,
   "metadata": {},
   "outputs": [
    {
     "name": "stderr",
     "output_type": "stream",
     "text": [
      "100%|███████████████████████████████████████████████████████████████████████████| 14084/14084 [01:52<00:00, 125.25it/s]\n"
     ]
    },
    {
     "name": "stdout",
     "output_type": "stream",
     "text": [
      "<function sigmoid_4_param at 0x0000024E37FCC900>\n",
      "(14084, 31) (3062, 33)\n",
      "CPU times: total: 1min 53s\n",
      "Wall time: 1min 52s\n"
     ]
    }
   ],
   "source": [
    "%%time\n",
    "df_filt_auc = pd.read_csv(_FOLDER_3+\"filt_auc_02.csv\")\n",
    "df = df_filt_auc.copy()\n",
    "fitting_function = \"sigmoid_4_param\"\n",
    "\n",
    "r2, fit_param = fitting_column(df, df.index, x_columns=conc_columns, y_columns= response_norm,\n",
    "                               fitting_function = fitting_function, default_param=True)\n",
    "df[fitting_function+\"_r2\"] = r2\n",
    "df[fitting_function] = fit_param\n",
    "df = df[df[fitting_function+\"_r2\"]>R2_limit]\n",
    "print(df_filt_auc.shape, df.shape)\n",
    "df.to_csv(_FOLDER_3+\"fit_auc_02.csv\", index=False)"
   ]
  },
  {
   "cell_type": "markdown",
   "metadata": {},
   "source": [
    "## Filtering 3: direct fitting"
   ]
  },
  {
   "cell_type": "code",
   "execution_count": 15,
   "metadata": {},
   "outputs": [],
   "source": [
    "functions = [\n",
    "             \"fsigmoid\", \n",
    "             \"sigmoid_2_param\",\n",
    "             \"sigmoid_3_param\",\n",
    "             \"sigmoid_4_param\",\n",
    "             \"logistic_4_param\",\n",
    "            \"ll4_4_param\",\n",
    "            \"ll4R_4_param\",\n",
    "            \"logLogist_3_param\"]"
   ]
  },
  {
   "cell_type": "code",
   "execution_count": 16,
   "metadata": {},
   "outputs": [
    {
     "name": "stdout",
     "output_type": "stream",
     "text": [
      "(225384, 28)\n",
      "\n",
      " fsigmoid\n"
     ]
    },
    {
     "name": "stderr",
     "output_type": "stream",
     "text": [
      "100%|█████████████████████████████████████████████████████████████████████████| 225384/225384 [04:58<00:00, 755.78it/s]\n"
     ]
    },
    {
     "name": "stdout",
     "output_type": "stream",
     "text": [
      "<function fsigmoid at 0x0000024E37FCC7C0>\n",
      "\n",
      " sigmoid_2_param\n"
     ]
    },
    {
     "name": "stderr",
     "output_type": "stream",
     "text": [
      "100%|█████████████████████████████████████████████████████████████████████████| 225384/225384 [03:49<00:00, 982.67it/s]\n"
     ]
    },
    {
     "name": "stdout",
     "output_type": "stream",
     "text": [
      "<function sigmoid_2_param at 0x0000024E37FCC720>\n",
      "\n",
      " sigmoid_3_param\n"
     ]
    },
    {
     "name": "stderr",
     "output_type": "stream",
     "text": [
      "100%|█████████████████████████████████████████████████████████████████████████| 225384/225384 [07:43<00:00, 486.34it/s]\n"
     ]
    },
    {
     "name": "stdout",
     "output_type": "stream",
     "text": [
      "<function sigmoid_3_param at 0x0000024E37FCC860>\n",
      "\n",
      " sigmoid_4_param\n"
     ]
    },
    {
     "name": "stderr",
     "output_type": "stream",
     "text": [
      "100%|█████████████████████████████████████████████████████████████████████████| 225384/225384 [32:20<00:00, 116.14it/s]\n"
     ]
    },
    {
     "name": "stdout",
     "output_type": "stream",
     "text": [
      "<function sigmoid_4_param at 0x0000024E37FCC900>\n",
      "\n",
      " logistic_4_param\n"
     ]
    },
    {
     "name": "stderr",
     "output_type": "stream",
     "text": [
      "100%|█████████████████████████████████████████████████████████████████████████| 225384/225384 [28:13<00:00, 133.11it/s]\n"
     ]
    },
    {
     "name": "stdout",
     "output_type": "stream",
     "text": [
      "<function logistic_4_param at 0x0000024E37FCCAE0>\n",
      "\n",
      " ll4_4_param\n"
     ]
    },
    {
     "name": "stderr",
     "output_type": "stream",
     "text": [
      "100%|█████████████████████████████████████████████████████████████████████████| 225384/225384 [32:11<00:00, 116.69it/s]\n"
     ]
    },
    {
     "name": "stdout",
     "output_type": "stream",
     "text": [
      "<function ll4_4_param at 0x0000024E37FCC9A0>\n",
      "\n",
      " ll4R_4_param\n"
     ]
    },
    {
     "name": "stderr",
     "output_type": "stream",
     "text": [
      "100%|█████████████████████████████████████████████████████████████████████████| 225384/225384 [29:40<00:00, 126.61it/s]\n"
     ]
    },
    {
     "name": "stdout",
     "output_type": "stream",
     "text": [
      "<function ll4R_4_param at 0x0000024E37FCCA40>\n",
      "\n",
      " logLogist_3_param\n"
     ]
    },
    {
     "name": "stderr",
     "output_type": "stream",
     "text": [
      " 12%|████████▌                                                                | 26603/225384 [03:52<1:32:00, 36.01it/s]IOPub message rate exceeded.\n",
      "The notebook server will temporarily stop sending output\n",
      "to the client in order to avoid crashing it.\n",
      "To change this limit, set the config variable\n",
      "`--NotebookApp.iopub_msg_rate_limit`.\n",
      "\n",
      "Current values:\n",
      "NotebookApp.iopub_msg_rate_limit=1000.0 (msgs/sec)\n",
      "NotebookApp.rate_limit_window=3.0 (secs)\n",
      "\n"
     ]
    }
   ],
   "source": [
    "%%time\n",
    "df_no_filt = compare_fitting_functions(drug_curves, functions, conc_columns, response_norm, \n",
    "                                       save_file_name = _FOLDER_3 +\"fit_no_filt.csv\")"
   ]
  },
  {
   "cell_type": "code",
   "execution_count": null,
   "metadata": {},
   "outputs": [],
   "source": []
  }
 ],
 "metadata": {
  "anaconda-cloud": {},
  "kernelspec": {
   "display_name": "Python 3 (ipykernel)",
   "language": "python",
   "name": "python3"
  },
  "language_info": {
   "codemirror_mode": {
    "name": "ipython",
    "version": 3
   },
   "file_extension": ".py",
   "mimetype": "text/x-python",
   "name": "python",
   "nbconvert_exporter": "python",
   "pygments_lexer": "ipython3",
   "version": "3.11.2"
  }
 },
 "nbformat": 4,
 "nbformat_minor": 2
}
