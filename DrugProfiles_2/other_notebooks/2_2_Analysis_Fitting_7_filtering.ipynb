{
 "cells": [
  {
   "cell_type": "code",
   "execution_count": 10,
   "metadata": {},
   "outputs": [],
   "source": [
    "import pandas as pd\n",
    "import numpy as np\n",
    "import seaborn as sns\n",
    "import matplotlib.pyplot as plt\n",
    "import os\n",
    "import gc\n",
    "# _FOLDER = \"C:/Users/junny/GitRepos/DrugProfiles_2/database/\"\n",
    "_FOLDER = \"database/\"\n",
    "_FOLDER_2 = \"figures/\"\n",
    "_FOLDER_3 = \"results/\""
   ]
  },
  {
   "cell_type": "code",
   "execution_count": 21,
   "metadata": {},
   "outputs": [],
   "source": [
    "os.chdir('C:/Users/junny/GitRepos/DrugProfiles_2/functions')"
   ]
  },
  {
   "cell_type": "code",
   "execution_count": 22,
   "metadata": {},
   "outputs": [],
   "source": [
    "from functions.fitting import*"
   ]
  },
  {
   "cell_type": "code",
   "execution_count": 24,
   "metadata": {},
   "outputs": [
    {
     "ename": "ModuleNotFoundError",
     "evalue": "No module named 'numba'",
     "output_type": "error",
     "traceback": [
      "\u001b[1;31m---------------------------------------------------------------------------\u001b[0m",
      "\u001b[1;31mModuleNotFoundError\u001b[0m                       Traceback (most recent call last)",
      "Cell \u001b[1;32mIn[24], line 1\u001b[0m\n\u001b[1;32m----> 1\u001b[0m \u001b[38;5;28;01mfrom\u001b[39;00m \u001b[38;5;21;01mnumba\u001b[39;00m \u001b[38;5;28;01mimport\u001b[39;00m njit\n\u001b[0;32m      3\u001b[0m \u001b[38;5;129m@njit\u001b[39m\n\u001b[0;32m      4\u001b[0m \u001b[38;5;28;01mdef\u001b[39;00m \u001b[38;5;21mCatData\u001b[39m(arr):\n\u001b[0;32m      5\u001b[0m     bins \u001b[38;5;241m=\u001b[39m np\u001b[38;5;241m.\u001b[39mempty(arr\u001b[38;5;241m.\u001b[39mshape[\u001b[38;5;241m0\u001b[39m])\n",
      "\u001b[1;31mModuleNotFoundError\u001b[0m: No module named 'numba'"
     ]
    }
   ],
   "source": [
    "from numba import njit\n",
    "\n",
    "@njit\n",
    "def CatData(arr):\n",
    "    bins = np.empty(arr.shape[0])\n",
    "    for idx, x in enumerate(arr):\n",
    "        if (x >= 0) & (x < 0.5):\n",
    "            bins[idx] = 1\n",
    "        elif (x >= 0.5) & (x < 0.7):\n",
    "            bins[idx] = 2\n",
    "        elif (x >= 0.7) & (x < 0.9):\n",
    "            bins[idx] = 3\n",
    "        elif (x >= 0.9) & (x < 0.95):\n",
    "            bins[idx] = 4\n",
    "        elif (x >= 0.95) & (x < 0.99):\n",
    "            bins[idx] = 5\n",
    "        elif x >= 0.99:\n",
    "            bins[idx] = 6\n",
    "        else:\n",
    "            bins[idx] = 0\n",
    "\n",
    "    return bins\n",
    "\n",
    "def BinningFunction(df, column, new_column, categorical=True):\n",
    "    df[new_column] = CatData(df[column].to_numpy())\n",
    "    \n",
    "    if categorical:\n",
    "        map_dict = {\n",
    "            1: \"0-0.5\",\n",
    "            2: \"0.5-0.7\",\n",
    "            3: \"0.7-0.9\",\n",
    "            4: \"0.9-0.95\",\n",
    "            5: \"0.95-0.99\",\n",
    "            6: \">0.99\",\n",
    "            0: \"<0\"\n",
    "        }\n",
    "        df[new_column]= df[new_column].map(map_dict)\n",
    "    "
   ]
  },
  {
   "cell_type": "code",
   "execution_count": null,
   "metadata": {},
   "outputs": [],
   "source": [
    "os.listdir(\"results/\")"
   ]
  },
  {
   "cell_type": "code",
   "execution_count": null,
   "metadata": {},
   "outputs": [],
   "source": [
    "functions = [\n",
    "             \"fsigmoid\", \n",
    "             \"sigmoid_2_param\",\n",
    "             \"sigmoid_3_param\",\n",
    "             \"sigmoid_4_param\",\n",
    "             \"logistic_4_param\",\n",
    "            \"ll4_4_param\",\n",
    "            \"ll4R_4_param\",\n",
    "            \"logLogist_3_param\"]\n",
    "\n",
    "#r2_columns = [fitting_function+\"_r2\" for fitting_function in functions]\n",
    "\n",
    "filtration_types = ['123', '1234', 'auc_02', 'auc_04','auc_06', \"auc\", \"no_filt\"]\n"
   ]
  },
  {
   "cell_type": "code",
   "execution_count": null,
   "metadata": {},
   "outputs": [],
   "source": [
    "df_099 = pd.DataFrame(index=filtration_types, columns = functions)\n",
    "df_09 = pd.DataFrame(index=filtration_types, columns = functions)"
   ]
  },
  {
   "cell_type": "code",
   "execution_count": null,
   "metadata": {},
   "outputs": [],
   "source": [
    "%%time\n",
    "\n",
    "\n",
    "for filtering in filtration_types:\n",
    "    print(\"Filtering:\", filtering)\n",
    "    try:\n",
    "        df = pd.read_csv(_FOLDER_3+\"filt_\"+filtering+\".csv\")\n",
    "        print(\"Data left after filtering: %d\" % df.shape[0])\n",
    "        del df\n",
    "    except:\n",
    "        df = pd.read_csv(_FOLDER+\"normalised_dose_response_data.csv\")\n",
    "        print(\"No prior filtering, original shape:\", df.shape)\n",
    "    \n",
    "    df_1 = pd.read_csv(_FOLDER_3+\"fit_\"+filtering+\".csv\")\n",
    "    print(\"Left after fitting:\", df_1.shape[0])\n",
    "    \n",
    "    df_0 = pd.DataFrame()\n",
    "    df_0[\"index\"] = ['>0.99', '0.95-0.99', '0.9-0.95', '0.7-0.9', '0.5-0.7', '0-0.5', \"<0\", \"sum_>0.9\"]\n",
    "\n",
    "    for func in functions:\n",
    "        BinningFunction(df_1, func +\"_r2\", func) \n",
    "        df = df_1[func].value_counts().reset_index()\n",
    "        df.loc[7, \"index\"] = \"sum_>0.9\" \n",
    "        df.loc[7, func]= df.iloc[:3][func].sum()\n",
    "        df[func] = df[func].astype(\"int32\")\n",
    "#         display(df)\n",
    "        df_0 = pd.merge(df_0, df, on=\"index\", how=\"left\")\n",
    "    display(df_0)\n",
    "    df_099.loc[filtering, :]= df_0.loc[0, functions]\n",
    "    df_09.loc[filtering, :]= df_0.loc[7, functions]\n",
    "    print(\"********************************\\n\")"
   ]
  },
  {
   "cell_type": "markdown",
   "metadata": {},
   "source": [
    "## Fitting results"
   ]
  },
  {
   "cell_type": "code",
   "execution_count": null,
   "metadata": {},
   "outputs": [],
   "source": [
    "#Number of drug curves with fitting R2>0.99\n",
    "df_099"
   ]
  },
  {
   "cell_type": "code",
   "execution_count": null,
   "metadata": {},
   "outputs": [],
   "source": [
    "#Number of drug curves with fitting R2>0.9\n",
    "df_09"
   ]
  },
  {
   "cell_type": "code",
   "execution_count": null,
   "metadata": {},
   "outputs": [],
   "source": [
    "max_099 = int(max(df_099.max(axis=0)))\n",
    "print(\"Fitting>0.99:\", max_099, \"samples\")\n",
    "\n",
    "for col in functions:\n",
    "    if max_099 in df_099[col].values:\n",
    "        print(\"Filtering:\", df_099.index[np.argwhere(df_099[col].values == max_099)][0][0])\n",
    "        print(\"Fitting function:\", col)\n",
    "print(\"\")\n",
    "\n",
    "max_09 = int(max(df_09.max(axis=0)))\n",
    "print(\"Fitting>0.90:\", max_09, \"samples\")\n",
    "\n",
    "for col in functions:\n",
    "    if max_09 in df_09[col].values:\n",
    "        print(\"Filtering:\", df_09.index[np.argwhere(df_09[col].values == max_09)][0][0])\n",
    "        print(\"Fitting function:\", col)"
   ]
  },
  {
   "cell_type": "code",
   "execution_count": null,
   "metadata": {},
   "outputs": [],
   "source": []
  },
  {
   "cell_type": "code",
   "execution_count": null,
   "metadata": {},
   "outputs": [],
   "source": [
    "dff.head()"
   ]
  },
  {
   "cell_type": "code",
   "execution_count": null,
   "metadata": {},
   "outputs": [],
   "source": []
  }
 ],
 "metadata": {
  "kernelspec": {
   "display_name": "Python 3 (ipykernel)",
   "language": "python",
   "name": "python3"
  },
  "language_info": {
   "codemirror_mode": {
    "name": "ipython",
    "version": 3
   },
   "file_extension": ".py",
   "mimetype": "text/x-python",
   "name": "python",
   "nbconvert_exporter": "python",
   "pygments_lexer": "ipython3",
   "version": "3.11.2"
  }
 },
 "nbformat": 4,
 "nbformat_minor": 4
}
