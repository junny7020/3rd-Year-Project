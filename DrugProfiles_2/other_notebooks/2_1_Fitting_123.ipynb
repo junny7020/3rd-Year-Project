{
 "cells": [
  {
   "cell_type": "markdown",
   "metadata": {},
   "source": [
    "## Fitting drug response curves with sigmoid function"
   ]
  },
  {
   "cell_type": "code",
   "execution_count": 1,
   "metadata": {},
   "outputs": [],
   "source": [
    "import pandas as pd\n",
    "import numpy as np\n",
    "from tqdm import tqdm\n",
    "import warnings\n",
    "warnings.filterwarnings(\"ignore\")\n",
    "import os, sys\n",
    "sys.path.insert(1, os.path.relpath(\"../functions\"))\n",
    "from fitting import *\n",
    "from plotting import *\n",
    "\n",
    "\n",
    "_FOLDER = \"../data/\"\n",
    "_FOLDER_2 = \"../figures/\"\n",
    "_FOLDER_3 = \"../results/\""
   ]
  },
  {
   "cell_type": "markdown",
   "metadata": {},
   "source": [
    "## Fitting data"
   ]
  },
  {
   "cell_type": "code",
   "execution_count": 2,
   "metadata": {},
   "outputs": [
    {
     "ename": "FileNotFoundError",
     "evalue": "[Errno 2] No such file or directory: '../results/filt_123.csv'",
     "output_type": "error",
     "traceback": [
      "\u001b[1;31m---------------------------------------------------------------------------\u001b[0m",
      "\u001b[1;31mFileNotFoundError\u001b[0m                         Traceback (most recent call last)",
      "Cell \u001b[1;32mIn[2], line 1\u001b[0m\n\u001b[1;32m----> 1\u001b[0m df \u001b[38;5;241m=\u001b[39m \u001b[43mpd\u001b[49m\u001b[38;5;241;43m.\u001b[39;49m\u001b[43mread_csv\u001b[49m\u001b[43m(\u001b[49m\u001b[43m_FOLDER_3\u001b[49m\u001b[38;5;241;43m+\u001b[39;49m\u001b[38;5;124;43m\"\u001b[39;49m\u001b[38;5;124;43mfilt_123.csv\u001b[39;49m\u001b[38;5;124;43m\"\u001b[39;49m\u001b[43m)\u001b[49m\n\u001b[0;32m      2\u001b[0m conc_columns\u001b[38;5;241m=\u001b[39m [\u001b[38;5;124m\"\u001b[39m\u001b[38;5;124mfd_num_\u001b[39m\u001b[38;5;124m\"\u001b[39m\u001b[38;5;241m+\u001b[39m\u001b[38;5;28mstr\u001b[39m(i) \u001b[38;5;28;01mfor\u001b[39;00m i \u001b[38;5;129;01min\u001b[39;00m \u001b[38;5;28mrange\u001b[39m(\u001b[38;5;241m10\u001b[39m)]\n\u001b[0;32m      3\u001b[0m response_norm \u001b[38;5;241m=\u001b[39m [\u001b[38;5;124m'\u001b[39m\u001b[38;5;124mnorm_cells_\u001b[39m\u001b[38;5;124m'\u001b[39m\u001b[38;5;241m+\u001b[39m\u001b[38;5;28mstr\u001b[39m(i) \u001b[38;5;28;01mfor\u001b[39;00m i \u001b[38;5;129;01min\u001b[39;00m \u001b[38;5;28mrange\u001b[39m(\u001b[38;5;241m10\u001b[39m)]\n",
      "File \u001b[1;32mC:\\Python\\Python311\\Lib\\site-packages\\pandas\\util\\_decorators.py:211\u001b[0m, in \u001b[0;36mdeprecate_kwarg.<locals>._deprecate_kwarg.<locals>.wrapper\u001b[1;34m(*args, **kwargs)\u001b[0m\n\u001b[0;32m    209\u001b[0m     \u001b[38;5;28;01melse\u001b[39;00m:\n\u001b[0;32m    210\u001b[0m         kwargs[new_arg_name] \u001b[38;5;241m=\u001b[39m new_arg_value\n\u001b[1;32m--> 211\u001b[0m \u001b[38;5;28;01mreturn\u001b[39;00m \u001b[43mfunc\u001b[49m\u001b[43m(\u001b[49m\u001b[38;5;241;43m*\u001b[39;49m\u001b[43margs\u001b[49m\u001b[43m,\u001b[49m\u001b[43m \u001b[49m\u001b[38;5;241;43m*\u001b[39;49m\u001b[38;5;241;43m*\u001b[39;49m\u001b[43mkwargs\u001b[49m\u001b[43m)\u001b[49m\n",
      "File \u001b[1;32mC:\\Python\\Python311\\Lib\\site-packages\\pandas\\util\\_decorators.py:331\u001b[0m, in \u001b[0;36mdeprecate_nonkeyword_arguments.<locals>.decorate.<locals>.wrapper\u001b[1;34m(*args, **kwargs)\u001b[0m\n\u001b[0;32m    325\u001b[0m \u001b[38;5;28;01mif\u001b[39;00m \u001b[38;5;28mlen\u001b[39m(args) \u001b[38;5;241m>\u001b[39m num_allow_args:\n\u001b[0;32m    326\u001b[0m     warnings\u001b[38;5;241m.\u001b[39mwarn(\n\u001b[0;32m    327\u001b[0m         msg\u001b[38;5;241m.\u001b[39mformat(arguments\u001b[38;5;241m=\u001b[39m_format_argument_list(allow_args)),\n\u001b[0;32m    328\u001b[0m         \u001b[38;5;167;01mFutureWarning\u001b[39;00m,\n\u001b[0;32m    329\u001b[0m         stacklevel\u001b[38;5;241m=\u001b[39mfind_stack_level(),\n\u001b[0;32m    330\u001b[0m     )\n\u001b[1;32m--> 331\u001b[0m \u001b[38;5;28;01mreturn\u001b[39;00m \u001b[43mfunc\u001b[49m\u001b[43m(\u001b[49m\u001b[38;5;241;43m*\u001b[39;49m\u001b[43margs\u001b[49m\u001b[43m,\u001b[49m\u001b[43m \u001b[49m\u001b[38;5;241;43m*\u001b[39;49m\u001b[38;5;241;43m*\u001b[39;49m\u001b[43mkwargs\u001b[49m\u001b[43m)\u001b[49m\n",
      "File \u001b[1;32mC:\\Python\\Python311\\Lib\\site-packages\\pandas\\io\\parsers\\readers.py:950\u001b[0m, in \u001b[0;36mread_csv\u001b[1;34m(filepath_or_buffer, sep, delimiter, header, names, index_col, usecols, squeeze, prefix, mangle_dupe_cols, dtype, engine, converters, true_values, false_values, skipinitialspace, skiprows, skipfooter, nrows, na_values, keep_default_na, na_filter, verbose, skip_blank_lines, parse_dates, infer_datetime_format, keep_date_col, date_parser, dayfirst, cache_dates, iterator, chunksize, compression, thousands, decimal, lineterminator, quotechar, quoting, doublequote, escapechar, comment, encoding, encoding_errors, dialect, error_bad_lines, warn_bad_lines, on_bad_lines, delim_whitespace, low_memory, memory_map, float_precision, storage_options)\u001b[0m\n\u001b[0;32m    935\u001b[0m kwds_defaults \u001b[38;5;241m=\u001b[39m _refine_defaults_read(\n\u001b[0;32m    936\u001b[0m     dialect,\n\u001b[0;32m    937\u001b[0m     delimiter,\n\u001b[1;32m   (...)\u001b[0m\n\u001b[0;32m    946\u001b[0m     defaults\u001b[38;5;241m=\u001b[39m{\u001b[38;5;124m\"\u001b[39m\u001b[38;5;124mdelimiter\u001b[39m\u001b[38;5;124m\"\u001b[39m: \u001b[38;5;124m\"\u001b[39m\u001b[38;5;124m,\u001b[39m\u001b[38;5;124m\"\u001b[39m},\n\u001b[0;32m    947\u001b[0m )\n\u001b[0;32m    948\u001b[0m kwds\u001b[38;5;241m.\u001b[39mupdate(kwds_defaults)\n\u001b[1;32m--> 950\u001b[0m \u001b[38;5;28;01mreturn\u001b[39;00m \u001b[43m_read\u001b[49m\u001b[43m(\u001b[49m\u001b[43mfilepath_or_buffer\u001b[49m\u001b[43m,\u001b[49m\u001b[43m \u001b[49m\u001b[43mkwds\u001b[49m\u001b[43m)\u001b[49m\n",
      "File \u001b[1;32mC:\\Python\\Python311\\Lib\\site-packages\\pandas\\io\\parsers\\readers.py:605\u001b[0m, in \u001b[0;36m_read\u001b[1;34m(filepath_or_buffer, kwds)\u001b[0m\n\u001b[0;32m    602\u001b[0m _validate_names(kwds\u001b[38;5;241m.\u001b[39mget(\u001b[38;5;124m\"\u001b[39m\u001b[38;5;124mnames\u001b[39m\u001b[38;5;124m\"\u001b[39m, \u001b[38;5;28;01mNone\u001b[39;00m))\n\u001b[0;32m    604\u001b[0m \u001b[38;5;66;03m# Create the parser.\u001b[39;00m\n\u001b[1;32m--> 605\u001b[0m parser \u001b[38;5;241m=\u001b[39m \u001b[43mTextFileReader\u001b[49m\u001b[43m(\u001b[49m\u001b[43mfilepath_or_buffer\u001b[49m\u001b[43m,\u001b[49m\u001b[43m \u001b[49m\u001b[38;5;241;43m*\u001b[39;49m\u001b[38;5;241;43m*\u001b[39;49m\u001b[43mkwds\u001b[49m\u001b[43m)\u001b[49m\n\u001b[0;32m    607\u001b[0m \u001b[38;5;28;01mif\u001b[39;00m chunksize \u001b[38;5;129;01mor\u001b[39;00m iterator:\n\u001b[0;32m    608\u001b[0m     \u001b[38;5;28;01mreturn\u001b[39;00m parser\n",
      "File \u001b[1;32mC:\\Python\\Python311\\Lib\\site-packages\\pandas\\io\\parsers\\readers.py:1442\u001b[0m, in \u001b[0;36mTextFileReader.__init__\u001b[1;34m(self, f, engine, **kwds)\u001b[0m\n\u001b[0;32m   1439\u001b[0m     \u001b[38;5;28mself\u001b[39m\u001b[38;5;241m.\u001b[39moptions[\u001b[38;5;124m\"\u001b[39m\u001b[38;5;124mhas_index_names\u001b[39m\u001b[38;5;124m\"\u001b[39m] \u001b[38;5;241m=\u001b[39m kwds[\u001b[38;5;124m\"\u001b[39m\u001b[38;5;124mhas_index_names\u001b[39m\u001b[38;5;124m\"\u001b[39m]\n\u001b[0;32m   1441\u001b[0m \u001b[38;5;28mself\u001b[39m\u001b[38;5;241m.\u001b[39mhandles: IOHandles \u001b[38;5;241m|\u001b[39m \u001b[38;5;28;01mNone\u001b[39;00m \u001b[38;5;241m=\u001b[39m \u001b[38;5;28;01mNone\u001b[39;00m\n\u001b[1;32m-> 1442\u001b[0m \u001b[38;5;28mself\u001b[39m\u001b[38;5;241m.\u001b[39m_engine \u001b[38;5;241m=\u001b[39m \u001b[38;5;28;43mself\u001b[39;49m\u001b[38;5;241;43m.\u001b[39;49m\u001b[43m_make_engine\u001b[49m\u001b[43m(\u001b[49m\u001b[43mf\u001b[49m\u001b[43m,\u001b[49m\u001b[43m \u001b[49m\u001b[38;5;28;43mself\u001b[39;49m\u001b[38;5;241;43m.\u001b[39;49m\u001b[43mengine\u001b[49m\u001b[43m)\u001b[49m\n",
      "File \u001b[1;32mC:\\Python\\Python311\\Lib\\site-packages\\pandas\\io\\parsers\\readers.py:1735\u001b[0m, in \u001b[0;36mTextFileReader._make_engine\u001b[1;34m(self, f, engine)\u001b[0m\n\u001b[0;32m   1733\u001b[0m     \u001b[38;5;28;01mif\u001b[39;00m \u001b[38;5;124m\"\u001b[39m\u001b[38;5;124mb\u001b[39m\u001b[38;5;124m\"\u001b[39m \u001b[38;5;129;01mnot\u001b[39;00m \u001b[38;5;129;01min\u001b[39;00m mode:\n\u001b[0;32m   1734\u001b[0m         mode \u001b[38;5;241m+\u001b[39m\u001b[38;5;241m=\u001b[39m \u001b[38;5;124m\"\u001b[39m\u001b[38;5;124mb\u001b[39m\u001b[38;5;124m\"\u001b[39m\n\u001b[1;32m-> 1735\u001b[0m \u001b[38;5;28mself\u001b[39m\u001b[38;5;241m.\u001b[39mhandles \u001b[38;5;241m=\u001b[39m \u001b[43mget_handle\u001b[49m\u001b[43m(\u001b[49m\n\u001b[0;32m   1736\u001b[0m \u001b[43m    \u001b[49m\u001b[43mf\u001b[49m\u001b[43m,\u001b[49m\n\u001b[0;32m   1737\u001b[0m \u001b[43m    \u001b[49m\u001b[43mmode\u001b[49m\u001b[43m,\u001b[49m\n\u001b[0;32m   1738\u001b[0m \u001b[43m    \u001b[49m\u001b[43mencoding\u001b[49m\u001b[38;5;241;43m=\u001b[39;49m\u001b[38;5;28;43mself\u001b[39;49m\u001b[38;5;241;43m.\u001b[39;49m\u001b[43moptions\u001b[49m\u001b[38;5;241;43m.\u001b[39;49m\u001b[43mget\u001b[49m\u001b[43m(\u001b[49m\u001b[38;5;124;43m\"\u001b[39;49m\u001b[38;5;124;43mencoding\u001b[39;49m\u001b[38;5;124;43m\"\u001b[39;49m\u001b[43m,\u001b[49m\u001b[43m \u001b[49m\u001b[38;5;28;43;01mNone\u001b[39;49;00m\u001b[43m)\u001b[49m\u001b[43m,\u001b[49m\n\u001b[0;32m   1739\u001b[0m \u001b[43m    \u001b[49m\u001b[43mcompression\u001b[49m\u001b[38;5;241;43m=\u001b[39;49m\u001b[38;5;28;43mself\u001b[39;49m\u001b[38;5;241;43m.\u001b[39;49m\u001b[43moptions\u001b[49m\u001b[38;5;241;43m.\u001b[39;49m\u001b[43mget\u001b[49m\u001b[43m(\u001b[49m\u001b[38;5;124;43m\"\u001b[39;49m\u001b[38;5;124;43mcompression\u001b[39;49m\u001b[38;5;124;43m\"\u001b[39;49m\u001b[43m,\u001b[49m\u001b[43m \u001b[49m\u001b[38;5;28;43;01mNone\u001b[39;49;00m\u001b[43m)\u001b[49m\u001b[43m,\u001b[49m\n\u001b[0;32m   1740\u001b[0m \u001b[43m    \u001b[49m\u001b[43mmemory_map\u001b[49m\u001b[38;5;241;43m=\u001b[39;49m\u001b[38;5;28;43mself\u001b[39;49m\u001b[38;5;241;43m.\u001b[39;49m\u001b[43moptions\u001b[49m\u001b[38;5;241;43m.\u001b[39;49m\u001b[43mget\u001b[49m\u001b[43m(\u001b[49m\u001b[38;5;124;43m\"\u001b[39;49m\u001b[38;5;124;43mmemory_map\u001b[39;49m\u001b[38;5;124;43m\"\u001b[39;49m\u001b[43m,\u001b[49m\u001b[43m \u001b[49m\u001b[38;5;28;43;01mFalse\u001b[39;49;00m\u001b[43m)\u001b[49m\u001b[43m,\u001b[49m\n\u001b[0;32m   1741\u001b[0m \u001b[43m    \u001b[49m\u001b[43mis_text\u001b[49m\u001b[38;5;241;43m=\u001b[39;49m\u001b[43mis_text\u001b[49m\u001b[43m,\u001b[49m\n\u001b[0;32m   1742\u001b[0m \u001b[43m    \u001b[49m\u001b[43merrors\u001b[49m\u001b[38;5;241;43m=\u001b[39;49m\u001b[38;5;28;43mself\u001b[39;49m\u001b[38;5;241;43m.\u001b[39;49m\u001b[43moptions\u001b[49m\u001b[38;5;241;43m.\u001b[39;49m\u001b[43mget\u001b[49m\u001b[43m(\u001b[49m\u001b[38;5;124;43m\"\u001b[39;49m\u001b[38;5;124;43mencoding_errors\u001b[39;49m\u001b[38;5;124;43m\"\u001b[39;49m\u001b[43m,\u001b[49m\u001b[43m \u001b[49m\u001b[38;5;124;43m\"\u001b[39;49m\u001b[38;5;124;43mstrict\u001b[39;49m\u001b[38;5;124;43m\"\u001b[39;49m\u001b[43m)\u001b[49m\u001b[43m,\u001b[49m\n\u001b[0;32m   1743\u001b[0m \u001b[43m    \u001b[49m\u001b[43mstorage_options\u001b[49m\u001b[38;5;241;43m=\u001b[39;49m\u001b[38;5;28;43mself\u001b[39;49m\u001b[38;5;241;43m.\u001b[39;49m\u001b[43moptions\u001b[49m\u001b[38;5;241;43m.\u001b[39;49m\u001b[43mget\u001b[49m\u001b[43m(\u001b[49m\u001b[38;5;124;43m\"\u001b[39;49m\u001b[38;5;124;43mstorage_options\u001b[39;49m\u001b[38;5;124;43m\"\u001b[39;49m\u001b[43m,\u001b[49m\u001b[43m \u001b[49m\u001b[38;5;28;43;01mNone\u001b[39;49;00m\u001b[43m)\u001b[49m\u001b[43m,\u001b[49m\n\u001b[0;32m   1744\u001b[0m \u001b[43m\u001b[49m\u001b[43m)\u001b[49m\n\u001b[0;32m   1745\u001b[0m \u001b[38;5;28;01massert\u001b[39;00m \u001b[38;5;28mself\u001b[39m\u001b[38;5;241m.\u001b[39mhandles \u001b[38;5;129;01mis\u001b[39;00m \u001b[38;5;129;01mnot\u001b[39;00m \u001b[38;5;28;01mNone\u001b[39;00m\n\u001b[0;32m   1746\u001b[0m f \u001b[38;5;241m=\u001b[39m \u001b[38;5;28mself\u001b[39m\u001b[38;5;241m.\u001b[39mhandles\u001b[38;5;241m.\u001b[39mhandle\n",
      "File \u001b[1;32mC:\\Python\\Python311\\Lib\\site-packages\\pandas\\io\\common.py:856\u001b[0m, in \u001b[0;36mget_handle\u001b[1;34m(path_or_buf, mode, encoding, compression, memory_map, is_text, errors, storage_options)\u001b[0m\n\u001b[0;32m    851\u001b[0m \u001b[38;5;28;01melif\u001b[39;00m \u001b[38;5;28misinstance\u001b[39m(handle, \u001b[38;5;28mstr\u001b[39m):\n\u001b[0;32m    852\u001b[0m     \u001b[38;5;66;03m# Check whether the filename is to be opened in binary mode.\u001b[39;00m\n\u001b[0;32m    853\u001b[0m     \u001b[38;5;66;03m# Binary mode does not support 'encoding' and 'newline'.\u001b[39;00m\n\u001b[0;32m    854\u001b[0m     \u001b[38;5;28;01mif\u001b[39;00m ioargs\u001b[38;5;241m.\u001b[39mencoding \u001b[38;5;129;01mand\u001b[39;00m \u001b[38;5;124m\"\u001b[39m\u001b[38;5;124mb\u001b[39m\u001b[38;5;124m\"\u001b[39m \u001b[38;5;129;01mnot\u001b[39;00m \u001b[38;5;129;01min\u001b[39;00m ioargs\u001b[38;5;241m.\u001b[39mmode:\n\u001b[0;32m    855\u001b[0m         \u001b[38;5;66;03m# Encoding\u001b[39;00m\n\u001b[1;32m--> 856\u001b[0m         handle \u001b[38;5;241m=\u001b[39m \u001b[38;5;28;43mopen\u001b[39;49m\u001b[43m(\u001b[49m\n\u001b[0;32m    857\u001b[0m \u001b[43m            \u001b[49m\u001b[43mhandle\u001b[49m\u001b[43m,\u001b[49m\n\u001b[0;32m    858\u001b[0m \u001b[43m            \u001b[49m\u001b[43mioargs\u001b[49m\u001b[38;5;241;43m.\u001b[39;49m\u001b[43mmode\u001b[49m\u001b[43m,\u001b[49m\n\u001b[0;32m    859\u001b[0m \u001b[43m            \u001b[49m\u001b[43mencoding\u001b[49m\u001b[38;5;241;43m=\u001b[39;49m\u001b[43mioargs\u001b[49m\u001b[38;5;241;43m.\u001b[39;49m\u001b[43mencoding\u001b[49m\u001b[43m,\u001b[49m\n\u001b[0;32m    860\u001b[0m \u001b[43m            \u001b[49m\u001b[43merrors\u001b[49m\u001b[38;5;241;43m=\u001b[39;49m\u001b[43merrors\u001b[49m\u001b[43m,\u001b[49m\n\u001b[0;32m    861\u001b[0m \u001b[43m            \u001b[49m\u001b[43mnewline\u001b[49m\u001b[38;5;241;43m=\u001b[39;49m\u001b[38;5;124;43m\"\u001b[39;49m\u001b[38;5;124;43m\"\u001b[39;49m\u001b[43m,\u001b[49m\n\u001b[0;32m    862\u001b[0m \u001b[43m        \u001b[49m\u001b[43m)\u001b[49m\n\u001b[0;32m    863\u001b[0m     \u001b[38;5;28;01melse\u001b[39;00m:\n\u001b[0;32m    864\u001b[0m         \u001b[38;5;66;03m# Binary mode\u001b[39;00m\n\u001b[0;32m    865\u001b[0m         handle \u001b[38;5;241m=\u001b[39m \u001b[38;5;28mopen\u001b[39m(handle, ioargs\u001b[38;5;241m.\u001b[39mmode)\n",
      "\u001b[1;31mFileNotFoundError\u001b[0m: [Errno 2] No such file or directory: '../results/filt_123.csv'"
     ]
    }
   ],
   "source": [
    "df = pd.read_csv(_FOLDER_3+\"filt_123.csv\")\n",
    "conc_columns= [\"fd_num_\"+str(i) for i in range(10)]\n",
    "response_norm = ['norm_cells_'+str(i) for i in range(10)]\n",
    "df.columns"
   ]
  },
  {
   "cell_type": "markdown",
   "metadata": {},
   "source": [
    "### sigmoid_4_param"
   ]
  },
  {
   "cell_type": "raw",
   "metadata": {},
   "source": [
    "# sigmoid_4_param\n",
    "\n",
    "y = 1/ (L + np.exp(-k*(x-x0))) + d)\n",
    "\n",
    "x0 -  p - position, correlation with IC50 or EC50\n",
    "L = 1 protect from devision by zero if x is too small \n",
    "k = -1/s (s -shape parameter)\n",
    "d - determines the vertical position of the sigmoid - shift on y axis "
   ]
  },
  {
   "cell_type": "code",
   "execution_count": null,
   "metadata": {},
   "outputs": [],
   "source": [
    "%%time\n",
    "fitting_function = \"sigmoid_4_param\"\n",
    "r2, fit_param = fitting_column(df, df.index, x_columns=conc_columns, y_columns= response_norm,\n",
    "                               fitting_function = fitting_function, default_param=True)\n",
    "df[fitting_function+\"_r2\"] = r2\n",
    "df[fitting_function] = fit_param\n",
    "df= df[df[fitting_function+\"_r2\"]>0]\n",
    "print(\"R2>0:\", df.shape)\n",
    "print(\"R2>0.9\", df[df[fitting_function+\"_r2\"]>0.9].shape[0])\n",
    "print(\"Number of samples with fitting <0.1:\", df[df[fitting_function+\"_r2\"]<0.1].shape[0])\n",
    "print(\"\")"
   ]
  },
  {
   "cell_type": "markdown",
   "metadata": {},
   "source": [
    "## Visual Analysis of fitting efficiency"
   ]
  },
  {
   "cell_type": "markdown",
   "metadata": {},
   "source": [
    "### All samples"
   ]
  },
  {
   "cell_type": "code",
   "execution_count": null,
   "metadata": {},
   "outputs": [],
   "source": [
    "# ShowResponseCurvesWithFitting(df.drop([\"drug_name\", \"CCL_name\"],axis=1), plots_in_row=3, plots_in_column=3, x_columns=conc_columns, y_columns = response_norm, \n",
    "#                         indexes=df.index[:9],fitting_function = fitting_function, \n",
    "#                                   fitting_parameters =fitting_function)\n",
    "\n",
    "show_response_curves_with_fitting(df, plots_in_row=3, plots_in_column=3, x_columns=conc_columns, y_columns = response_norm, \n",
    "                        indexes=df.index[:9],fitting_function = fitting_function, \n",
    "                                  fitting_parameters =fitting_function)"
   ]
  },
  {
   "cell_type": "markdown",
   "metadata": {},
   "source": [
    "### Bad fitting examples (examination after analysis of predictive models)"
   ]
  },
  {
   "cell_type": "code",
   "execution_count": null,
   "metadata": {},
   "outputs": [],
   "source": [
    "df2= df[(df[fitting_function+\"_r2\"]>0.1)& (df[fitting_function+\"_r2\"]<0.9)]\n",
    "\n",
    "show_response_curves_with_fitting(df2, plots_in_row=3, plots_in_column=3, x_columns=conc_columns, y_columns = response_norm, \n",
    "                        indexes= df2.index[:9],fitting_function = fitting_function, \n",
    "                                  fitting_parameters =fitting_function)"
   ]
  },
  {
   "cell_type": "markdown",
   "metadata": {},
   "source": [
    "### Outliers in predictive models"
   ]
  },
  {
   "cell_type": "code",
   "execution_count": null,
   "metadata": {},
   "outputs": [],
   "source": [
    "ind = int(df[(df[\"DRUG_ID\"]==180)& (df[\"COSMIC_ID\"]==907064)].index[0])\n",
    "fitting_parameters = fitting_function\n",
    "predicted_param = [0.348604, 1.106316, -14.202945, 0.168828]\n",
    "save_fig_name = _FOLDER_2+\"outlier_coef1_1.png\"\n",
    "\n",
    "show_one_fitting(df, ind, conc_columns, response_norm, fitting_function, fitting_parameters, predicted_param)"
   ]
  },
  {
   "cell_type": "code",
   "execution_count": null,
   "metadata": {},
   "outputs": [],
   "source": [
    "ind =int(df[(df[\"DRUG_ID\"]==173)& (df[\"COSMIC_ID\"]==687777)].index[0])\n",
    "fitting_parameters =fitting_function\n",
    "predicted_param = [0.623563, 1.099364, -13.124646, -8.772640e-15]\n",
    "save_fig_name = _FOLDER_2+\"outlier_coef3.png\"\n",
    "\n",
    "show_one_fitting(df, ind, conc_columns, response_norm, fitting_function, fitting_parameters, predicted_param)"
   ]
  },
  {
   "cell_type": "code",
   "execution_count": null,
   "metadata": {},
   "outputs": [],
   "source": [
    "ind =int(df[(df[\"DRUG_ID\"]==180)& (df[\"COSMIC_ID\"]==907064)].index[0])\n",
    "fitting_parameters =fitting_function\n",
    "save_fig_name = _FOLDER_2+\"outlier_coef1_2.png\"\n",
    "\n",
    "fig_size = (4,3)\n",
    "show_one_fitting(df, ind, conc_columns, response_norm, fitting_function, fitting_parameters, fig_size=fig_size)"
   ]
  },
  {
   "cell_type": "code",
   "execution_count": null,
   "metadata": {},
   "outputs": [],
   "source": [
    "ind =int(df[(df[\"DRUG_ID\"]==273)& (df[\"COSMIC_ID\"]==907071)].index[0])\n",
    "fitting_parameters =fitting_function\n",
    "save_fig_name = _FOLDER_2+\"filt_fit_0.png\"\n",
    "\n",
    "fig_size = (4,3)\n",
    "show_one_fitting(df, ind, conc_columns, response_norm, fitting_function, fitting_parameters, fig_size=fig_size)"
   ]
  },
  {
   "cell_type": "code",
   "execution_count": null,
   "metadata": {},
   "outputs": [],
   "source": [
    "ind =int(df[(df[\"DRUG_ID\"]==273)& (df[\"COSMIC_ID\"]==907071)].index[0])\n",
    "fitting_parameters = fitting_function\n",
    "save_fig_name = _FOLDER_2+\"filt_fit_0.png\"\n",
    "\n",
    "fig_size = (4,3)\n",
    "show_one_fitting(df, ind, conc_columns, response_norm, fitting_function, fitting_parameters, fig_size=fig_size)"
   ]
  },
  {
   "cell_type": "code",
   "execution_count": null,
   "metadata": {},
   "outputs": [],
   "source": [
    "ind =int(df[(df[\"DRUG_ID\"]==274)& (df[\"COSMIC_ID\"]==1240223)].index[0])\n",
    "save_fig_name = _FOLDER_2+\"filt_fit_1.png\"\n",
    "\n",
    "fig_size = (4,3)\n",
    "show_one_fitting(df, ind, conc_columns, response_norm, fitting_function, fitting_parameters, fig_size=fig_size)\n"
   ]
  },
  {
   "cell_type": "code",
   "execution_count": null,
   "metadata": {},
   "outputs": [],
   "source": [
    "ind =int(df[(df[\"DRUG_ID\"]==135)& (df[\"COSMIC_ID\"]==753610)].index[0])\n",
    "save_fig_name = _FOLDER_2+\"filt_fit_2.png\"\n",
    "\n",
    "fig_size = (4,3)\n",
    "show_one_fitting(df, ind, conc_columns, response_norm, fitting_function, fitting_parameters, fig_size=fig_size)"
   ]
  },
  {
   "cell_type": "markdown",
   "metadata": {},
   "source": [
    "### sigmoid_2_param"
   ]
  },
  {
   "cell_type": "raw",
   "metadata": {},
   "source": [
    "#sigmoid_2_param: \n",
    "   \n",
    "y = 1.0 / (1.0 + np.exp((x-p)/s)) \n",
    "\n",
    "x - dosage [0, 1],\n",
    "p - position,        default=0.4\n",
    "s - shape parameter,  default=-1"
   ]
  },
  {
   "cell_type": "code",
   "execution_count": null,
   "metadata": {},
   "outputs": [],
   "source": [
    "%%time\n",
    "fitting_function = \"sigmoid_2_param\" \n",
    "# \"sigmoid_Wang\" we don't need default_param_number\n",
    "r2, fit_param = fitting_column(df, df.index, x_columns=conc_columns, y_columns= response_norm,\n",
    "                               fitting_function = fitting_function, default_param=True)\n",
    "df[fitting_function+\"_r2\"] = r2\n",
    "df[fitting_function] = fit_param\n",
    "df= df[df[fitting_function+\"_r2\"]!=0]\n",
    "print(\"R2>0:\", df.shape)\n",
    "print(\"R2>0.9\", df[df[fitting_function+\"_r2\"]>0.9].shape[0])\n",
    "show_response_curves_with_fitting(df, plots_in_row=3, plots_in_column=3, x_columns=conc_columns, y_columns = response_norm, \n",
    "                        indexes=df.index[:9],fitting_function = fitting_function, \n",
    "                                  fitting_parameters =fitting_function)"
   ]
  },
  {
   "cell_type": "markdown",
   "metadata": {},
   "source": [
    "### sigmoid_3_param"
   ]
  },
  {
   "cell_type": "raw",
   "metadata": {},
   "source": [
    "# sigmoid_3_param\n",
    "y = 1/ (1 + np.exp(-k*(x-x0))) + d\n",
    "\n",
    "x0 -  p - position, correlation with IC50 or EC50\n",
    "k = -1/s (s -shape parameter)\n",
    "d - determines the vertical position of the sigmoid - shift on y axis - better fitting then Dennis Wang's sigmoid"
   ]
  },
  {
   "cell_type": "code",
   "execution_count": null,
   "metadata": {},
   "outputs": [],
   "source": [
    "%%time\n",
    "fitting_function = \"sigmoid_3_param\"\n",
    "\n",
    "r2, fit_param = fitting_column(df, df.index, x_columns=conc_columns, y_columns= response_norm,\n",
    "                               fitting_function = fitting_function, default_param=True)\n",
    "df[fitting_function+\"_r2\"] = r2\n",
    "df[fitting_function] = fit_param\n",
    "df= df[df[fitting_function+\"_r2\"]!=0]\n",
    "\n",
    "print(\"R2>0:\", df.shape)\n",
    "print(\"R2>0.9\", df[df[fitting_function+\"_r2\"]>0.9].shape[0])\n",
    "show_response_curves_with_fitting(df, plots_in_row=3, plots_in_column=3, x_columns=conc_columns, y_columns = response_norm, \n",
    "                        indexes=df.index[:9],fitting_function = fitting_function, \n",
    "                                  fitting_parameters =fitting_function)"
   ]
  },
  {
   "cell_type": "markdown",
   "metadata": {},
   "source": [
    "### fsigmoid"
   ]
  },
  {
   "cell_type": "raw",
   "metadata": {},
   "source": [
    "# fsigmoid\n",
    "\n",
    "y =1.0 / (1.0 + np.exp(-k*(x-p))\n",
    "          \n",
    "    x = x  - dosage [0, 1]\n",
    "    p - position [0,1],           default=0.4\n",
    "    k = -1/s (s -shape parameter) default=0.4"
   ]
  },
  {
   "cell_type": "code",
   "execution_count": null,
   "metadata": {},
   "outputs": [],
   "source": [
    "# %%time\n",
    "fitting_function = \"fsigmoid\"\n",
    "\n",
    "r2, fit_param = fitting_column(df, df.index, x_columns=conc_columns, y_columns= response_norm,\n",
    "                               fitting_function = fitting_function, default_param=True)\n",
    "df[fitting_function+\"_r2\"] = r2\n",
    "df[fitting_function] = fit_param\n",
    "df= df[df[fitting_function+\"_r2\"]!=0]\n",
    "print(df.shape)\n",
    "\n",
    "show_response_curves_with_fitting(df, plots_in_row=3, plots_in_column=3, x_columns=conc_columns, y_columns = response_norm, \n",
    "                        indexes=df.index[:9],fitting_function = fitting_function, \n",
    "                                  fitting_parameters =fitting_function)"
   ]
  },
  {
   "cell_type": "markdown",
   "metadata": {},
   "source": [
    "### logistic_4_param"
   ]
  },
  {
   "cell_type": "raw",
   "metadata": {},
   "source": [
    "# logistic_4_param\n",
    "y =(A-d)/(1.0+((x/C)**B)) + d \n",
    "\n",
    "    (A - d) = 1 in sigmoid_2_param:\n",
    "    (x/C)**B  - corresponds to np.exp((x-p)/s\n",
    "    d - determines the vertical position of the graph"
   ]
  },
  {
   "cell_type": "code",
   "execution_count": null,
   "metadata": {},
   "outputs": [],
   "source": [
    "%%time\n",
    "fitting_function = \"logistic_4_param\"\n",
    "r2, fit_param = fitting_column(df, df.index, x_columns=conc_columns, y_columns= response_norm,\n",
    "                               fitting_function = fitting_function, default_param=True)\n",
    "df[fitting_function+\"_r2\"] = r2\n",
    "df[fitting_function] = fit_param\n",
    "df= df[df[fitting_function+\"_r2\"]!=0]\n",
    "\n",
    "print(\"R2>0:\", df.shape)\n",
    "print(\"R2>0.9\", df[df[fitting_function+\"_r2\"]>0.9].shape[0])\n",
    "show_response_curves_with_fitting(df, plots_in_row=3, plots_in_column=3, x_columns=conc_columns, y_columns = response_norm, \n",
    "                        indexes=df.index[:9],fitting_function = fitting_function, \n",
    "                                  fitting_parameters =fitting_function)"
   ]
  },
  {
   "cell_type": "markdown",
   "metadata": {},
   "source": [
    "### LL4_4_param"
   ]
  },
  {
   "cell_type": "raw",
   "metadata": {},
   "source": [
    "# ll4_4_param\n",
    "\n",
    "y= (c-d)/(1 + np.exp( b*(np.log(x)-np.log(e) ))) + d\n",
    "\n",
    "     - b: hill slope\n",
    "     - d: min response - determines the vertical position of the graph\n",
    "     - c: max response\n",
    "     - e: EC50\n",
    "     c-d - difference between max and min responses\n",
    "     np.exp( b* (np.log(x)-np.log(e)) -  np.exp((x-p)/s in sigmoid_2_param\n",
    "     b- hill slope = 1/s - shape parameter\n",
    "     np.log(x)-np.log(e) == x-p in sigmoid_2_param\n"
   ]
  },
  {
   "cell_type": "code",
   "execution_count": null,
   "metadata": {},
   "outputs": [],
   "source": [
    "%%time\n",
    "fitting_function = \"ll4_4_param\"\n",
    "r2, fit_param = fitting_column(df, df.index, x_columns=conc_columns, y_columns= response_norm,\n",
    "                               fitting_function = fitting_function, default_param=True)\n",
    "df[fitting_function+\"_r2\"] = r2\n",
    "df[fitting_function] = fit_param\n",
    "df= df[df[fitting_function+\"_r2\"]!=0]\n",
    "print(\"R2>0:\", df.shape)\n",
    "print(\"R2>0.9\", df[df[fitting_function+\"_r2\"]>0.9].shape[0])\n",
    "show_response_curves_with_fitting(df, plots_in_row=3, plots_in_column=3, x_columns=conc_columns, y_columns = response_norm, \n",
    "                        indexes=df.index[:9],fitting_function = fitting_function, \n",
    "                                  fitting_parameters =fitting_function)"
   ]
  },
  {
   "cell_type": "markdown",
   "metadata": {},
   "source": [
    "### ll4R_4_param"
   ]
  },
  {
   "cell_type": "raw",
   "metadata": {},
   "source": [
    "#ll4R_4_param\n",
    "y=(a-d)/(1+np.exp(b*np.log(x)- c)) + d\n",
    "    a-d - difference between max and min responses\n",
    "    np.exp( b* np.log(x) - e) -  np.exp((x-p)/s in sigmoid_2_param\n",
    "    b - hill slope = 1/s - shape parameter\n",
    "    np.log(x)- e/b == x-p in sigmoid_2_param"
   ]
  },
  {
   "cell_type": "code",
   "execution_count": null,
   "metadata": {},
   "outputs": [],
   "source": [
    "%%time\n",
    "fitting_function = \"ll4R_4_param\"\n",
    "r2, fit_param = fitting_column(df, df.index, x_columns=conc_columns, y_columns= response_norm,\n",
    "                               fitting_function = fitting_function, default_param=True)\n",
    "df[fitting_function+\"_r2\"] = r2\n",
    "df[fitting_function] = fit_param\n",
    "df= df[df[fitting_function+\"_r2\"]!=0]\n",
    "\n",
    "print(\"R2>0:\", df.shape)\n",
    "print(\"R2>0.9\", df[df[fitting_function+\"_r2\"]>0.9].shape[0])\n",
    "show_response_curves_with_fitting(df, plots_in_row=3, plots_in_column=3, x_columns=conc_columns, y_columns = response_norm, \n",
    "                        indexes=df.index[:9],fitting_function = fitting_function, \n",
    "                                  fitting_parameters =fitting_function)"
   ]
  },
  {
   "cell_type": "markdown",
   "metadata": {},
   "source": [
    "### logLogist_3_param"
   ]
  },
  {
   "cell_type": "raw",
   "metadata": {},
   "source": [
    "# logLogist_3_param\n",
    "y= (1-E_inf)/(1+(np.log10(x)/EC50)**HS) + E_inf\n",
    "\n",
    "    E = E_inf + (1 - E_inf)/(1 + (x/EC50)^HS)\n",
    "    sigmoid_2_param: 1.0 / (1.0 + np.exp((x-p)/s)\n",
    "    \n",
    "    (A - d) = 1 in sigmoid_2_param:\n",
    "    (np.log10(x)/EC50)**HS  - (in logistic4 (x/C)**B) corresponds to np.exp((x-p)/s \n",
    "    \n",
    "    E_inf - determines the vertical position of the graph /coefficient d, min response in other functions\n"
   ]
  },
  {
   "cell_type": "code",
   "execution_count": null,
   "metadata": {},
   "outputs": [],
   "source": [
    "%%time\n",
    "fitting_function = \"logLogist_3_param\"\n",
    "r2, fit_param = fitting_column(df, df.index, x_columns=conc_columns, y_columns= response_norm,\n",
    "                               fitting_function = fitting_function, default_param=True)\n",
    "df[fitting_function+\"_r2\"] = r2\n",
    "df[fitting_function] = fit_param\n",
    "df= df[df[fitting_function+\"_r2\"]!=0]\n",
    "\n",
    "print(\"R2>0:\", df.shape)\n",
    "print(\"R2>0.9\", df[df[fitting_function+\"_r2\"]>0.9].shape[0])\n",
    "show_response_curves_with_fitting(df, plots_in_row=3, plots_in_column=3, x_columns=conc_columns, y_columns = response_norm, \n",
    "                        indexes=df.index[:9],fitting_function = fitting_function, \n",
    "                                  fitting_parameters =fitting_function)"
   ]
  },
  {
   "cell_type": "markdown",
   "metadata": {},
   "source": [
    "## Comparison of fitting models"
   ]
  },
  {
   "cell_type": "code",
   "execution_count": null,
   "metadata": {},
   "outputs": [],
   "source": [
    "functions = {\"fsigmoid\", \n",
    "             \"sigmoid_2_param\",\n",
    "             \"sigmoid_3_param\",\n",
    "             \"sigmoid_4_param\",\n",
    "             \"logistic_4_param\",\n",
    "            \"ll4_4_param\",\n",
    "            \"ll4R_4_param\",\n",
    "            \"logLogist_3_param\"}\n",
    "\n",
    "functions_dict= dict(list(enumerate(functions)))\n",
    "r2_columns = [fitting_function+\"_r2\" for fitting_function in functions]"
   ]
  },
  {
   "cell_type": "code",
   "execution_count": null,
   "metadata": {},
   "outputs": [],
   "source": [
    "df[\"better_fitting\"] = np.argmax(df[r2_columns].values, axis=1)\n",
    "r2_col_res = r2_columns +[\"better_fitting\"]\n",
    "df[\"better_fitting\"] = df[\"better_fitting\"].map(functions_dict)\n",
    "df[r2_col_res].head()"
   ]
  },
  {
   "cell_type": "code",
   "execution_count": null,
   "metadata": {},
   "outputs": [],
   "source": [
    "df[\"better_fitting\"].value_counts()"
   ]
  },
  {
   "cell_type": "code",
   "execution_count": null,
   "metadata": {},
   "outputs": [],
   "source": [
    "r2_limit = 0.98\n",
    "fitted_samples = {}\n",
    "for function in functions:\n",
    "    fitted_samples[function] = df[df[function+\"_r2\"]> r2_limit].shape[0]\n",
    "\n",
    "pd.DataFrame(fitted_samples.values(), index=fitted_samples.keys(), columns= [\"fitted_samples R2>\"+str(r2_limit)])\\\n",
    "            .sort_values(\"fitted_samples R2>\"+str(r2_limit), ascending=False)"
   ]
  },
  {
   "cell_type": "code",
   "execution_count": null,
   "metadata": {},
   "outputs": [],
   "source": [
    "r2_limit = 0.95\n",
    "fitted_samples = {}\n",
    "for function in functions:\n",
    "    fitted_samples[function] = df[df[function+\"_r2\"]> r2_limit].shape[0]\n",
    "\n",
    "pd.DataFrame(fitted_samples.values(), index=fitted_samples.keys(), columns= [\"fitted_samples R2>\"+str(r2_limit)])\\\n",
    "            .sort_values(\"fitted_samples R2>\"+str(r2_limit), ascending=False)"
   ]
  },
  {
   "cell_type": "code",
   "execution_count": null,
   "metadata": {},
   "outputs": [],
   "source": [
    "r2_limit = 0.9\n",
    "fitted_samples = {}\n",
    "for function in functions:\n",
    "    fitted_samples[function] = df[df[function+\"_r2\"]> r2_limit].shape[0]\n",
    "\n",
    "pd.DataFrame(fitted_samples.values(), index=fitted_samples.keys(), columns= [\"fitted_samples R2>\"+str(r2_limit)])\\\n",
    "            .sort_values(\"fitted_samples R2>\"+str(r2_limit), ascending=False)"
   ]
  },
  {
   "cell_type": "code",
   "execution_count": null,
   "metadata": {},
   "outputs": [],
   "source": [
    "df.to_csv(_FOLDER_3+\"fit_123.csv\", index=False)"
   ]
  },
  {
   "cell_type": "code",
   "execution_count": null,
   "metadata": {},
   "outputs": [],
   "source": []
  }
 ],
 "metadata": {
  "kernelspec": {
   "display_name": "Python 3 (ipykernel)",
   "language": "python",
   "name": "python3"
  },
  "language_info": {
   "codemirror_mode": {
    "name": "ipython",
    "version": 3
   },
   "file_extension": ".py",
   "mimetype": "text/x-python",
   "name": "python",
   "nbconvert_exporter": "python",
   "pygments_lexer": "ipython3",
   "version": "3.11.2"
  }
 },
 "nbformat": 4,
 "nbformat_minor": 2
}
