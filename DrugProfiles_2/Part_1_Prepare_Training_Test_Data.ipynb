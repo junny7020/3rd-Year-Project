{
 "cells": [
  {
   "cell_type": "code",
   "execution_count": 4,
   "metadata": {},
   "outputs": [],
   "source": [
    "import pandas as pd\n",
    "import numpy as np\n",
    "import os\n",
    "import gc\n",
    "import matplotlib.pyplot as plt\n",
    "\n",
    "_FOLDER = \"database/\"\n",
    "_FOLDER_2 = \"figures/\"\n",
    "_FOLDER_3 = \"results/\"\n",
    "SAVE_FIGURES = False\n",
    "\n",
    "from functions.filtering import *\n",
    "from functions.fitting import *\n",
    "from pubchem_processing import *\n",
    "from merging import *"
   ]
  },
  {
   "cell_type": "code",
   "execution_count": 5,
   "metadata": {},
   "outputs": [],
   "source": [
    "functions = [\n",
    "             \"fsigmoid\", \n",
    "             \"sigmoid_2_param\",\n",
    "             \"sigmoid_3_param\",\n",
    "             \"sigmoid_4_param\",\n",
    "             \"logistic_4_param\",\n",
    "            \"ll4_4_param\",\n",
    "            \"ll4R_4_param\",\n",
    "            \"logLogist_3_param\"]\n",
    "\n",
    "load_drug_properties = True"
   ]
  },
  {
   "cell_type": "code",
   "execution_count": 6,
   "metadata": {},
   "outputs": [],
   "source": [
    "drug_curves = pd.read_csv(_FOLDER+\"normalised_dose_response_data.csv\").drop(\"Unnamed: 0\", axis=1)\n",
    "conc_columns= [\"fd_num_\"+str(i) for i in range(10)]\n",
    "response_norm = ['norm_cells_'+str(i) for i in range(10)]\n",
    "cell_features = pd.read_csv(_FOLDER +\"Cell_Line_Features_PANCAN_simple_MOBEM.tsv\", sep=\"\\t\")"
   ]
  },
  {
   "cell_type": "code",
   "execution_count": 7,
   "metadata": {},
   "outputs": [
    {
     "data": {
      "text/plain": [
       "True"
      ]
     },
     "execution_count": 7,
     "metadata": {},
     "output_type": "execute_result"
    }
   ],
   "source": [
    "drug_curves.shape[0] == drug_curves[\"DRUGID_COSMICID\"].nunique()"
   ]
  },
  {
   "cell_type": "code",
   "execution_count": 8,
   "metadata": {},
   "outputs": [
    {
     "ename": "FileNotFoundError",
     "evalue": "[Errno 2] No such file or directory: 'database/drug_features_pubchem.csv'",
     "output_type": "error",
     "traceback": [
      "\u001b[1;31m---------------------------------------------------------------------------\u001b[0m",
      "\u001b[1;31mFileNotFoundError\u001b[0m                         Traceback (most recent call last)",
      "Cell \u001b[1;32mIn[8], line 2\u001b[0m\n\u001b[0;32m      1\u001b[0m \u001b[38;5;28;01mif\u001b[39;00m load_drug_properties:\n\u001b[1;32m----> 2\u001b[0m     drug_features \u001b[38;5;241m=\u001b[39m \u001b[43mpd\u001b[49m\u001b[38;5;241;43m.\u001b[39;49m\u001b[43mread_csv\u001b[49m\u001b[43m(\u001b[49m\u001b[43m_FOLDER\u001b[49m\u001b[38;5;241;43m+\u001b[39;49m\u001b[38;5;124;43m\"\u001b[39;49m\u001b[38;5;124;43mdrug_features_pubchem.csv\u001b[39;49m\u001b[38;5;124;43m\"\u001b[39;49m\u001b[43m)\u001b[49m\n\u001b[0;32m      3\u001b[0m \u001b[38;5;28;01melse\u001b[39;00m:\n\u001b[0;32m      4\u001b[0m     \u001b[38;5;66;03m# ~ 3 mins\u001b[39;00m\n\u001b[0;32m      5\u001b[0m     drugs_1 \u001b[38;5;241m=\u001b[39m pd\u001b[38;5;241m.\u001b[39mread_csv(_FOLDER\u001b[38;5;241m+\u001b[39m\u001b[38;5;124m'\u001b[39m\u001b[38;5;124mdrugs_gdsc1.csv\u001b[39m\u001b[38;5;124m'\u001b[39m)\n",
      "File \u001b[1;32mC:\\Python\\Python311\\Lib\\site-packages\\pandas\\util\\_decorators.py:211\u001b[0m, in \u001b[0;36mdeprecate_kwarg.<locals>._deprecate_kwarg.<locals>.wrapper\u001b[1;34m(*args, **kwargs)\u001b[0m\n\u001b[0;32m    209\u001b[0m     \u001b[38;5;28;01melse\u001b[39;00m:\n\u001b[0;32m    210\u001b[0m         kwargs[new_arg_name] \u001b[38;5;241m=\u001b[39m new_arg_value\n\u001b[1;32m--> 211\u001b[0m \u001b[38;5;28;01mreturn\u001b[39;00m \u001b[43mfunc\u001b[49m\u001b[43m(\u001b[49m\u001b[38;5;241;43m*\u001b[39;49m\u001b[43margs\u001b[49m\u001b[43m,\u001b[49m\u001b[43m \u001b[49m\u001b[38;5;241;43m*\u001b[39;49m\u001b[38;5;241;43m*\u001b[39;49m\u001b[43mkwargs\u001b[49m\u001b[43m)\u001b[49m\n",
      "File \u001b[1;32mC:\\Python\\Python311\\Lib\\site-packages\\pandas\\util\\_decorators.py:331\u001b[0m, in \u001b[0;36mdeprecate_nonkeyword_arguments.<locals>.decorate.<locals>.wrapper\u001b[1;34m(*args, **kwargs)\u001b[0m\n\u001b[0;32m    325\u001b[0m \u001b[38;5;28;01mif\u001b[39;00m \u001b[38;5;28mlen\u001b[39m(args) \u001b[38;5;241m>\u001b[39m num_allow_args:\n\u001b[0;32m    326\u001b[0m     warnings\u001b[38;5;241m.\u001b[39mwarn(\n\u001b[0;32m    327\u001b[0m         msg\u001b[38;5;241m.\u001b[39mformat(arguments\u001b[38;5;241m=\u001b[39m_format_argument_list(allow_args)),\n\u001b[0;32m    328\u001b[0m         \u001b[38;5;167;01mFutureWarning\u001b[39;00m,\n\u001b[0;32m    329\u001b[0m         stacklevel\u001b[38;5;241m=\u001b[39mfind_stack_level(),\n\u001b[0;32m    330\u001b[0m     )\n\u001b[1;32m--> 331\u001b[0m \u001b[38;5;28;01mreturn\u001b[39;00m \u001b[43mfunc\u001b[49m\u001b[43m(\u001b[49m\u001b[38;5;241;43m*\u001b[39;49m\u001b[43margs\u001b[49m\u001b[43m,\u001b[49m\u001b[43m \u001b[49m\u001b[38;5;241;43m*\u001b[39;49m\u001b[38;5;241;43m*\u001b[39;49m\u001b[43mkwargs\u001b[49m\u001b[43m)\u001b[49m\n",
      "File \u001b[1;32mC:\\Python\\Python311\\Lib\\site-packages\\pandas\\io\\parsers\\readers.py:950\u001b[0m, in \u001b[0;36mread_csv\u001b[1;34m(filepath_or_buffer, sep, delimiter, header, names, index_col, usecols, squeeze, prefix, mangle_dupe_cols, dtype, engine, converters, true_values, false_values, skipinitialspace, skiprows, skipfooter, nrows, na_values, keep_default_na, na_filter, verbose, skip_blank_lines, parse_dates, infer_datetime_format, keep_date_col, date_parser, dayfirst, cache_dates, iterator, chunksize, compression, thousands, decimal, lineterminator, quotechar, quoting, doublequote, escapechar, comment, encoding, encoding_errors, dialect, error_bad_lines, warn_bad_lines, on_bad_lines, delim_whitespace, low_memory, memory_map, float_precision, storage_options)\u001b[0m\n\u001b[0;32m    935\u001b[0m kwds_defaults \u001b[38;5;241m=\u001b[39m _refine_defaults_read(\n\u001b[0;32m    936\u001b[0m     dialect,\n\u001b[0;32m    937\u001b[0m     delimiter,\n\u001b[1;32m   (...)\u001b[0m\n\u001b[0;32m    946\u001b[0m     defaults\u001b[38;5;241m=\u001b[39m{\u001b[38;5;124m\"\u001b[39m\u001b[38;5;124mdelimiter\u001b[39m\u001b[38;5;124m\"\u001b[39m: \u001b[38;5;124m\"\u001b[39m\u001b[38;5;124m,\u001b[39m\u001b[38;5;124m\"\u001b[39m},\n\u001b[0;32m    947\u001b[0m )\n\u001b[0;32m    948\u001b[0m kwds\u001b[38;5;241m.\u001b[39mupdate(kwds_defaults)\n\u001b[1;32m--> 950\u001b[0m \u001b[38;5;28;01mreturn\u001b[39;00m \u001b[43m_read\u001b[49m\u001b[43m(\u001b[49m\u001b[43mfilepath_or_buffer\u001b[49m\u001b[43m,\u001b[49m\u001b[43m \u001b[49m\u001b[43mkwds\u001b[49m\u001b[43m)\u001b[49m\n",
      "File \u001b[1;32mC:\\Python\\Python311\\Lib\\site-packages\\pandas\\io\\parsers\\readers.py:605\u001b[0m, in \u001b[0;36m_read\u001b[1;34m(filepath_or_buffer, kwds)\u001b[0m\n\u001b[0;32m    602\u001b[0m _validate_names(kwds\u001b[38;5;241m.\u001b[39mget(\u001b[38;5;124m\"\u001b[39m\u001b[38;5;124mnames\u001b[39m\u001b[38;5;124m\"\u001b[39m, \u001b[38;5;28;01mNone\u001b[39;00m))\n\u001b[0;32m    604\u001b[0m \u001b[38;5;66;03m# Create the parser.\u001b[39;00m\n\u001b[1;32m--> 605\u001b[0m parser \u001b[38;5;241m=\u001b[39m \u001b[43mTextFileReader\u001b[49m\u001b[43m(\u001b[49m\u001b[43mfilepath_or_buffer\u001b[49m\u001b[43m,\u001b[49m\u001b[43m \u001b[49m\u001b[38;5;241;43m*\u001b[39;49m\u001b[38;5;241;43m*\u001b[39;49m\u001b[43mkwds\u001b[49m\u001b[43m)\u001b[49m\n\u001b[0;32m    607\u001b[0m \u001b[38;5;28;01mif\u001b[39;00m chunksize \u001b[38;5;129;01mor\u001b[39;00m iterator:\n\u001b[0;32m    608\u001b[0m     \u001b[38;5;28;01mreturn\u001b[39;00m parser\n",
      "File \u001b[1;32mC:\\Python\\Python311\\Lib\\site-packages\\pandas\\io\\parsers\\readers.py:1442\u001b[0m, in \u001b[0;36mTextFileReader.__init__\u001b[1;34m(self, f, engine, **kwds)\u001b[0m\n\u001b[0;32m   1439\u001b[0m     \u001b[38;5;28mself\u001b[39m\u001b[38;5;241m.\u001b[39moptions[\u001b[38;5;124m\"\u001b[39m\u001b[38;5;124mhas_index_names\u001b[39m\u001b[38;5;124m\"\u001b[39m] \u001b[38;5;241m=\u001b[39m kwds[\u001b[38;5;124m\"\u001b[39m\u001b[38;5;124mhas_index_names\u001b[39m\u001b[38;5;124m\"\u001b[39m]\n\u001b[0;32m   1441\u001b[0m \u001b[38;5;28mself\u001b[39m\u001b[38;5;241m.\u001b[39mhandles: IOHandles \u001b[38;5;241m|\u001b[39m \u001b[38;5;28;01mNone\u001b[39;00m \u001b[38;5;241m=\u001b[39m \u001b[38;5;28;01mNone\u001b[39;00m\n\u001b[1;32m-> 1442\u001b[0m \u001b[38;5;28mself\u001b[39m\u001b[38;5;241m.\u001b[39m_engine \u001b[38;5;241m=\u001b[39m \u001b[38;5;28;43mself\u001b[39;49m\u001b[38;5;241;43m.\u001b[39;49m\u001b[43m_make_engine\u001b[49m\u001b[43m(\u001b[49m\u001b[43mf\u001b[49m\u001b[43m,\u001b[49m\u001b[43m \u001b[49m\u001b[38;5;28;43mself\u001b[39;49m\u001b[38;5;241;43m.\u001b[39;49m\u001b[43mengine\u001b[49m\u001b[43m)\u001b[49m\n",
      "File \u001b[1;32mC:\\Python\\Python311\\Lib\\site-packages\\pandas\\io\\parsers\\readers.py:1735\u001b[0m, in \u001b[0;36mTextFileReader._make_engine\u001b[1;34m(self, f, engine)\u001b[0m\n\u001b[0;32m   1733\u001b[0m     \u001b[38;5;28;01mif\u001b[39;00m \u001b[38;5;124m\"\u001b[39m\u001b[38;5;124mb\u001b[39m\u001b[38;5;124m\"\u001b[39m \u001b[38;5;129;01mnot\u001b[39;00m \u001b[38;5;129;01min\u001b[39;00m mode:\n\u001b[0;32m   1734\u001b[0m         mode \u001b[38;5;241m+\u001b[39m\u001b[38;5;241m=\u001b[39m \u001b[38;5;124m\"\u001b[39m\u001b[38;5;124mb\u001b[39m\u001b[38;5;124m\"\u001b[39m\n\u001b[1;32m-> 1735\u001b[0m \u001b[38;5;28mself\u001b[39m\u001b[38;5;241m.\u001b[39mhandles \u001b[38;5;241m=\u001b[39m \u001b[43mget_handle\u001b[49m\u001b[43m(\u001b[49m\n\u001b[0;32m   1736\u001b[0m \u001b[43m    \u001b[49m\u001b[43mf\u001b[49m\u001b[43m,\u001b[49m\n\u001b[0;32m   1737\u001b[0m \u001b[43m    \u001b[49m\u001b[43mmode\u001b[49m\u001b[43m,\u001b[49m\n\u001b[0;32m   1738\u001b[0m \u001b[43m    \u001b[49m\u001b[43mencoding\u001b[49m\u001b[38;5;241;43m=\u001b[39;49m\u001b[38;5;28;43mself\u001b[39;49m\u001b[38;5;241;43m.\u001b[39;49m\u001b[43moptions\u001b[49m\u001b[38;5;241;43m.\u001b[39;49m\u001b[43mget\u001b[49m\u001b[43m(\u001b[49m\u001b[38;5;124;43m\"\u001b[39;49m\u001b[38;5;124;43mencoding\u001b[39;49m\u001b[38;5;124;43m\"\u001b[39;49m\u001b[43m,\u001b[49m\u001b[43m \u001b[49m\u001b[38;5;28;43;01mNone\u001b[39;49;00m\u001b[43m)\u001b[49m\u001b[43m,\u001b[49m\n\u001b[0;32m   1739\u001b[0m \u001b[43m    \u001b[49m\u001b[43mcompression\u001b[49m\u001b[38;5;241;43m=\u001b[39;49m\u001b[38;5;28;43mself\u001b[39;49m\u001b[38;5;241;43m.\u001b[39;49m\u001b[43moptions\u001b[49m\u001b[38;5;241;43m.\u001b[39;49m\u001b[43mget\u001b[49m\u001b[43m(\u001b[49m\u001b[38;5;124;43m\"\u001b[39;49m\u001b[38;5;124;43mcompression\u001b[39;49m\u001b[38;5;124;43m\"\u001b[39;49m\u001b[43m,\u001b[49m\u001b[43m \u001b[49m\u001b[38;5;28;43;01mNone\u001b[39;49;00m\u001b[43m)\u001b[49m\u001b[43m,\u001b[49m\n\u001b[0;32m   1740\u001b[0m \u001b[43m    \u001b[49m\u001b[43mmemory_map\u001b[49m\u001b[38;5;241;43m=\u001b[39;49m\u001b[38;5;28;43mself\u001b[39;49m\u001b[38;5;241;43m.\u001b[39;49m\u001b[43moptions\u001b[49m\u001b[38;5;241;43m.\u001b[39;49m\u001b[43mget\u001b[49m\u001b[43m(\u001b[49m\u001b[38;5;124;43m\"\u001b[39;49m\u001b[38;5;124;43mmemory_map\u001b[39;49m\u001b[38;5;124;43m\"\u001b[39;49m\u001b[43m,\u001b[49m\u001b[43m \u001b[49m\u001b[38;5;28;43;01mFalse\u001b[39;49;00m\u001b[43m)\u001b[49m\u001b[43m,\u001b[49m\n\u001b[0;32m   1741\u001b[0m \u001b[43m    \u001b[49m\u001b[43mis_text\u001b[49m\u001b[38;5;241;43m=\u001b[39;49m\u001b[43mis_text\u001b[49m\u001b[43m,\u001b[49m\n\u001b[0;32m   1742\u001b[0m \u001b[43m    \u001b[49m\u001b[43merrors\u001b[49m\u001b[38;5;241;43m=\u001b[39;49m\u001b[38;5;28;43mself\u001b[39;49m\u001b[38;5;241;43m.\u001b[39;49m\u001b[43moptions\u001b[49m\u001b[38;5;241;43m.\u001b[39;49m\u001b[43mget\u001b[49m\u001b[43m(\u001b[49m\u001b[38;5;124;43m\"\u001b[39;49m\u001b[38;5;124;43mencoding_errors\u001b[39;49m\u001b[38;5;124;43m\"\u001b[39;49m\u001b[43m,\u001b[49m\u001b[43m \u001b[49m\u001b[38;5;124;43m\"\u001b[39;49m\u001b[38;5;124;43mstrict\u001b[39;49m\u001b[38;5;124;43m\"\u001b[39;49m\u001b[43m)\u001b[49m\u001b[43m,\u001b[49m\n\u001b[0;32m   1743\u001b[0m \u001b[43m    \u001b[49m\u001b[43mstorage_options\u001b[49m\u001b[38;5;241;43m=\u001b[39;49m\u001b[38;5;28;43mself\u001b[39;49m\u001b[38;5;241;43m.\u001b[39;49m\u001b[43moptions\u001b[49m\u001b[38;5;241;43m.\u001b[39;49m\u001b[43mget\u001b[49m\u001b[43m(\u001b[49m\u001b[38;5;124;43m\"\u001b[39;49m\u001b[38;5;124;43mstorage_options\u001b[39;49m\u001b[38;5;124;43m\"\u001b[39;49m\u001b[43m,\u001b[49m\u001b[43m \u001b[49m\u001b[38;5;28;43;01mNone\u001b[39;49;00m\u001b[43m)\u001b[49m\u001b[43m,\u001b[49m\n\u001b[0;32m   1744\u001b[0m \u001b[43m\u001b[49m\u001b[43m)\u001b[49m\n\u001b[0;32m   1745\u001b[0m \u001b[38;5;28;01massert\u001b[39;00m \u001b[38;5;28mself\u001b[39m\u001b[38;5;241m.\u001b[39mhandles \u001b[38;5;129;01mis\u001b[39;00m \u001b[38;5;129;01mnot\u001b[39;00m \u001b[38;5;28;01mNone\u001b[39;00m\n\u001b[0;32m   1746\u001b[0m f \u001b[38;5;241m=\u001b[39m \u001b[38;5;28mself\u001b[39m\u001b[38;5;241m.\u001b[39mhandles\u001b[38;5;241m.\u001b[39mhandle\n",
      "File \u001b[1;32mC:\\Python\\Python311\\Lib\\site-packages\\pandas\\io\\common.py:856\u001b[0m, in \u001b[0;36mget_handle\u001b[1;34m(path_or_buf, mode, encoding, compression, memory_map, is_text, errors, storage_options)\u001b[0m\n\u001b[0;32m    851\u001b[0m \u001b[38;5;28;01melif\u001b[39;00m \u001b[38;5;28misinstance\u001b[39m(handle, \u001b[38;5;28mstr\u001b[39m):\n\u001b[0;32m    852\u001b[0m     \u001b[38;5;66;03m# Check whether the filename is to be opened in binary mode.\u001b[39;00m\n\u001b[0;32m    853\u001b[0m     \u001b[38;5;66;03m# Binary mode does not support 'encoding' and 'newline'.\u001b[39;00m\n\u001b[0;32m    854\u001b[0m     \u001b[38;5;28;01mif\u001b[39;00m ioargs\u001b[38;5;241m.\u001b[39mencoding \u001b[38;5;129;01mand\u001b[39;00m \u001b[38;5;124m\"\u001b[39m\u001b[38;5;124mb\u001b[39m\u001b[38;5;124m\"\u001b[39m \u001b[38;5;129;01mnot\u001b[39;00m \u001b[38;5;129;01min\u001b[39;00m ioargs\u001b[38;5;241m.\u001b[39mmode:\n\u001b[0;32m    855\u001b[0m         \u001b[38;5;66;03m# Encoding\u001b[39;00m\n\u001b[1;32m--> 856\u001b[0m         handle \u001b[38;5;241m=\u001b[39m \u001b[38;5;28;43mopen\u001b[39;49m\u001b[43m(\u001b[49m\n\u001b[0;32m    857\u001b[0m \u001b[43m            \u001b[49m\u001b[43mhandle\u001b[49m\u001b[43m,\u001b[49m\n\u001b[0;32m    858\u001b[0m \u001b[43m            \u001b[49m\u001b[43mioargs\u001b[49m\u001b[38;5;241;43m.\u001b[39;49m\u001b[43mmode\u001b[49m\u001b[43m,\u001b[49m\n\u001b[0;32m    859\u001b[0m \u001b[43m            \u001b[49m\u001b[43mencoding\u001b[49m\u001b[38;5;241;43m=\u001b[39;49m\u001b[43mioargs\u001b[49m\u001b[38;5;241;43m.\u001b[39;49m\u001b[43mencoding\u001b[49m\u001b[43m,\u001b[49m\n\u001b[0;32m    860\u001b[0m \u001b[43m            \u001b[49m\u001b[43merrors\u001b[49m\u001b[38;5;241;43m=\u001b[39;49m\u001b[43merrors\u001b[49m\u001b[43m,\u001b[49m\n\u001b[0;32m    861\u001b[0m \u001b[43m            \u001b[49m\u001b[43mnewline\u001b[49m\u001b[38;5;241;43m=\u001b[39;49m\u001b[38;5;124;43m\"\u001b[39;49m\u001b[38;5;124;43m\"\u001b[39;49m\u001b[43m,\u001b[49m\n\u001b[0;32m    862\u001b[0m \u001b[43m        \u001b[49m\u001b[43m)\u001b[49m\n\u001b[0;32m    863\u001b[0m     \u001b[38;5;28;01melse\u001b[39;00m:\n\u001b[0;32m    864\u001b[0m         \u001b[38;5;66;03m# Binary mode\u001b[39;00m\n\u001b[0;32m    865\u001b[0m         handle \u001b[38;5;241m=\u001b[39m \u001b[38;5;28mopen\u001b[39m(handle, ioargs\u001b[38;5;241m.\u001b[39mmode)\n",
      "\u001b[1;31mFileNotFoundError\u001b[0m: [Errno 2] No such file or directory: 'database/drug_features_pubchem.csv'"
     ]
    }
   ],
   "source": [
    "if load_drug_properties:\n",
    "    drug_features = pd.read_csv(_FOLDER+\"drug_features_pubchem.csv\")\n",
    "else:\n",
    "    # ~ 3 mins\n",
    "    drugs_1 = pd.read_csv(_FOLDER+'drugs_gdsc1.csv')\n",
    "    drug_features = pd.read_csv(_FOLDER + \"Drug_Features.csv\")\n",
    "    drug_features = PreprocessDrugs(drug_features, drugs_1, save_features_names =True, _FOLDER_to_save = _FOLDER_3)\n",
    "    drug_features.reset_index(inplace=True)\n",
    "    drug_features.to_csv(_FOLDER+\"drug_features_pubchem.csv\", index=False)\n",
    "# Total number of drugs: 250\n",
    "# Number of not found drugs: 17\n",
    "# Elements in drugs: 11 ['Pt', 'I', 'H', 'B', 'P', 'Br', 'O', 'S', 'N', 'Cl', 'F']\n",
    "# Number of targets: 213\n",
    "# Number of unique pathways: 23"
   ]
  },
  {
   "cell_type": "markdown",
   "metadata": {},
   "source": [
    "## as in MSc project"
   ]
  },
  {
   "cell_type": "code",
   "execution_count": null,
   "metadata": {},
   "outputs": [],
   "source": [
    "fitting_function = \"sigmoid_4_param\"\n",
    "filtration_name = \"filt_123_04\"\n",
    "\n",
    "df = drug_curves.copy()\n",
    "\n",
    "df = FilteringSigmoidCurves(drug_curves, filtering_scenario=[1,2,3], \\\n",
    "                        response_columns = response_norm, \\\n",
    "                        first_points_lower_limit = 0.8, last_points_upper_limit = 0.4)\n",
    "\n",
    "df = ComputeFittingFunction(df, fitting_function, conc_columns, response_norm)\n",
    "\n",
    "merged_df = MergeDrugCells(df, cell_features, drug_features, \n",
    "                               splitting_needed= True,\n",
    "                               param_col_name = fitting_function,\n",
    "#                                save_CCL_properties = True, _FOLDER_to_save = _FOLDER_3\n",
    "                              )\n",
    "\n",
    "#merged_df[[\"param_\"+str(i) for i in range(1,5)]+[\"sigmoid_4_param\"]].head()\n",
    "\n",
    "train, test, test2 = SplitTrainTestFor10Drugs(merged_df, train_ratio = 0.8)\n",
    "train.dropna(axis=0, inplace=True)\n",
    "test.dropna(axis=0, inplace=True)\n",
    "test2.dropna(axis=0, inplace=True)\n",
    "\n",
    "new_folder = _FOLDER + filtration_name\n",
    "if filtration_name not in os.listdir(_FOLDER):\n",
    "    os.makedirs(new_folder)\n",
    "train.to_csv(new_folder+\"/train.csv\")\n",
    "test.to_csv(new_folder+\"/test.csv\")\n",
    "test2.to_csv(new_folder+\"/test2.csv\")\n",
    "train.shape[0], test.shape[0], test2.shape[0]"
   ]
  },
  {
   "cell_type": "code",
   "execution_count": null,
   "metadata": {},
   "outputs": [],
   "source": [
    "fitting_function = \"sigmoid_4_param\"\n",
    "filtration_name = \"filt_123_04_r2_09\"\n",
    "\n",
    "df = drug_curves.copy()\n",
    "\n",
    "df = FilteringSigmoidCurves(drug_curves, filtering_scenario=[1,2,3], \\\n",
    "                        response_columns = response_norm, \\\n",
    "                        first_points_lower_limit = 0.8, last_points_upper_limit = 0.4)\n",
    "\n",
    "df = ComputeFittingFunction(df, fitting_function, conc_columns, response_norm)\n",
    "\n",
    "merged_df = MergeDrugCells(df, cell_features, drug_features, \n",
    "                               splitting_needed= True,\n",
    "                               param_col_name = fitting_function,\n",
    "#                                save_CCL_properties = True, _FOLDER_to_save = _FOLDER_3\n",
    "                              )\n",
    "merged_df = merged_df[merged_df[\"sigmoid_4_param_r2\"]>0.9]\n",
    "#merged_df[[\"param_\"+str(i) for i in range(1,5)]+[\"sigmoid_4_param\"]].head()\n",
    "\n",
    "train, test, test2 = SplitTrainTestFor10Drugs(merged_df, train_ratio = 0.8)\n",
    "train.dropna(axis=0, inplace=True)\n",
    "test.dropna(axis=0, inplace=True)\n",
    "test2.dropna(axis=0, inplace=True)\n",
    "\n",
    "new_folder = _FOLDER + filtration_name\n",
    "if filtration_name not in os.listdir(_FOLDER):\n",
    "    os.makedirs(new_folder)\n",
    "train.to_csv(new_folder+\"/train.csv\")\n",
    "test.to_csv(new_folder+\"/test.csv\")\n",
    "test2.to_csv(new_folder+\"/test2.csv\")\n",
    "train.shape[0], test.shape[0], test2.shape[0]"
   ]
  },
  {
   "cell_type": "markdown",
   "metadata": {},
   "source": [
    "## Additional 4th stage"
   ]
  },
  {
   "cell_type": "code",
   "execution_count": null,
   "metadata": {},
   "outputs": [],
   "source": [
    "fitting_function = \"sigmoid_4_param\"\n",
    "filtration_name = \"filt_1234_04\"\n",
    "\n",
    "df = drug_curves.copy()\n",
    "\n",
    "df = FilteringSigmoidCurves(drug_curves, filtering_scenario = [1,2,3,4], \\\n",
    "                        response_columns = response_norm, \\\n",
    "                        first_points_lower_limit = 0.8, last_points_upper_limit = 0.4)\n",
    "\n",
    "df = ComputeFittingFunction(df, fitting_function, conc_columns, response_norm)\n",
    "\n",
    "merged_df = MergeDrugCells(df, cell_features, drug_features, \n",
    "                               splitting_needed= True,\n",
    "                               param_col_name = fitting_function)\n",
    "\n",
    "\n",
    "train, test, test2 = SplitTrainTestFor10Drugs(merged_df, train_ratio = 0.8)\n",
    "new_folder = _FOLDER + filtration_name\n",
    "if filtration_name not in os.listdir(_FOLDER):\n",
    "    os.makedirs(new_folder)\n",
    "train.to_csv(new_folder+\"/train.csv\")\n",
    "test.to_csv(new_folder+\"/test.csv\")\n",
    "test2.to_csv(new_folder+\"/test2.csv\")\n",
    "train.shape[0], test.shape[0], test2.shape[0]"
   ]
  },
  {
   "cell_type": "markdown",
   "metadata": {},
   "source": [
    "## No filtering - only fitting"
   ]
  },
  {
   "cell_type": "code",
   "execution_count": null,
   "metadata": {},
   "outputs": [],
   "source": [
    "%%time\n",
    "\n",
    "df = drug_curves.copy()\n",
    "\n",
    "fitting_function = \"sigmoid_4_param\"\n",
    "filtration_name = \"no_filt\"\n",
    "\n",
    "df = ComputeFittingFunction(df, fitting_function, conc_columns, response_norm)\n",
    "\n",
    "merged_df = MergeDrugCells(df, cell_features, drug_features, \n",
    "                               splitting_needed= True,\n",
    "                               param_col_name = fitting_function)\n",
    "\n",
    "merged_df = merged_df[merged_df[\"sigmoid_4_param_r2\"]>0.9]\n",
    "\n",
    "train, test, test2 = SplitTrainTestFor10Drugs(merged_df, train_ratio = 0.8)\n",
    "new_folder = _FOLDER + filtration_name\n",
    "if filtration_name not in os.listdir(_FOLDER):\n",
    "    os.makedirs(new_folder)\n",
    "train.to_csv(new_folder+\"/train.csv\")\n",
    "test.to_csv(new_folder+\"/test.csv\")\n",
    "test2.to_csv(new_folder+\"/test2.csv\")\n",
    "print(train.shape[0], test.shape[0], test2.shape[0])"
   ]
  },
  {
   "cell_type": "markdown",
   "metadata": {},
   "source": [
    "## AUC -filtering"
   ]
  },
  {
   "cell_type": "code",
   "execution_count": null,
   "metadata": {},
   "outputs": [],
   "source": [
    "df = pd.read_csv(\"results/filt_auc.csv\")\n",
    "\n",
    "fitting_function = \"sigmoid_4_param\"\n",
    "filtration_name = \"auc_filt\"\n",
    "\n",
    "df = ComputeFittingFunction(df, fitting_function, conc_columns, response_norm)\n",
    "\n",
    "merged_df = MergeDrugCells(df, cell_features, drug_features, \n",
    "                               splitting_needed= True,\n",
    "                               param_col_name = fitting_function)\n",
    "\n",
    "\n",
    "train, test, test2 = SplitTrainTestFor10Drugs(merged_df, train_ratio = 0.8)\n",
    "new_folder = _FOLDER + filtration_name\n",
    "if filtration_name not in os.listdir(_FOLDER):\n",
    "    os.makedirs(new_folder)\n",
    "train.to_csv(new_folder+\"/train.csv\")\n",
    "test.to_csv(new_folder+\"/test.csv\")\n",
    "test2.to_csv(new_folder+\"/test2.csv\")\n",
    "train.shape[0], test.shape[0], test2.shape[0]"
   ]
  },
  {
   "cell_type": "code",
   "execution_count": null,
   "metadata": {},
   "outputs": [],
   "source": [
    "df = pd.read_csv(\"results/filt_auc_02.csv\")\n",
    "\n",
    "fitting_function = \"sigmoid_4_param\"\n",
    "filtration_name = \"filt_auc_02\"\n",
    "\n",
    "df = ComputeFittingFunction(df, fitting_function, conc_columns, response_norm)\n",
    "\n",
    "merged_df = MergeDrugCells(df, cell_features, drug_features, \n",
    "                               splitting_needed= True,\n",
    "                               param_col_name = fitting_function)\n",
    "\n",
    "\n",
    "train, test, test2 = SplitTrainTestFor10Drugs(merged_df, train_ratio = 0.8)\n",
    "new_folder = _FOLDER + filtration_name\n",
    "if filtration_name not in os.listdir(_FOLDER):\n",
    "    os.makedirs(new_folder)\n",
    "train.to_csv(new_folder+\"/train.csv\")\n",
    "test.to_csv(new_folder+\"/test.csv\")\n",
    "test2.to_csv(new_folder+\"/test2.csv\")\n",
    "train.shape[0], test.shape[0], test2.shape[0]"
   ]
  },
  {
   "cell_type": "markdown",
   "metadata": {},
   "source": [
    "## Test sets from GDSC2"
   ]
  },
  {
   "cell_type": "code",
   "execution_count": null,
   "metadata": {},
   "outputs": [],
   "source": [
    "drug_curves = pd.read_csv(_FOLDER+\"normalised_dose_response_data_GDCS2_EC_conc.csv\", sep= \"\\t\")\n",
    "drug_curves.shape"
   ]
  },
  {
   "cell_type": "code",
   "execution_count": null,
   "metadata": {},
   "outputs": [],
   "source": [
    "conc_columns= [\"fd_num_\"+str(i) for i in range(8)]\n",
    "response_norm = ['norm_cells_'+str(i) for i in range(8)]\n",
    "load_drug_properties=False"
   ]
  },
  {
   "cell_type": "code",
   "execution_count": null,
   "metadata": {},
   "outputs": [],
   "source": [
    "%%time\n",
    "if load_drug_properties:\n",
    "    drug_features = pd.read_csv(_FOLDER+\"drug_features_pubchem_gdsc2.csv\")\n",
    "else:\n",
    "    # ~ 3 mins\n",
    "    drug_features = pd.read_csv(_FOLDER + \"drugs_gdsc2.csv\")\n",
    "    drug_features.columns = ['DRUG_ID', 'Drug_Name', 'Synonyms', 'Target_Pathway', 'Target', 'pubchem_id']\n",
    "    drug_features = GetPubChemId(drug_features)\n",
    "    drug_features = PreprocessDrugs(drug_features, drug_features_wih_pubchem_id = True, \n",
    "                                    save_features_names =False)\n",
    "    drug_features.reset_index(inplace=True)\n",
    "    drug_features = drug_features[drug_features[\"pubchem_id\"]!= \"-\"]\n",
    "    drug_features.to_csv(_FOLDER+\"drug_features_pubchem_gdsc2.csv\", index=False)\n",
    "    \n",
    "#columns with drug features can be different!"
   ]
  },
  {
   "cell_type": "code",
   "execution_count": null,
   "metadata": {},
   "outputs": [],
   "source": [
    "drug_features2 = pd.read_csv(_FOLDER+\"drug_features_pubchem_gdsc2.csv\")\n",
    "drug_features2.shape                                        "
   ]
  },
  {
   "cell_type": "code",
   "execution_count": null,
   "metadata": {},
   "outputs": [],
   "source": [
    "drug_features2"
   ]
  },
  {
   "cell_type": "code",
   "execution_count": null,
   "metadata": {},
   "outputs": [],
   "source": [
    "fitting_function = \"sigmoid_4_param\"\n",
    "filtration_name = \"filt_123_04\"\n",
    "\n",
    "df = drug_curves.copy()\n",
    "\n",
    "df = FilteringSigmoidCurves(drug_curves, filtering_scenario=[1,2,3], \\\n",
    "                        response_columns = response_norm, \\\n",
    "                        first_points_lower_limit = 0.8, last_points_upper_limit = 0.4)\n",
    "\n",
    "df = ComputeFittingFunction(df, fitting_function, conc_columns, response_norm)\n",
    "\n",
    "merged_df= MergeDrugCells(df, cell_features, drug_features, \n",
    "                               splitting_needed= True,\n",
    "                               param_col_name = fitting_function,\n",
    "#                                save_CCL_properties = True, _FOLDER_to_save = _FOLDER_3\n",
    "                              )\n",
    "new_folder = _FOLDER + filtration_name\n",
    "merged_df.to_csv(new_folder+\"/test_gdsc2.csv\")\n",
    "merged_df.shape[0]"
   ]
  },
  {
   "cell_type": "code",
   "execution_count": null,
   "metadata": {},
   "outputs": [],
   "source": [
    "df"
   ]
  },
  {
   "cell_type": "markdown",
   "metadata": {},
   "source": [
    "## GDSC2 without fitting"
   ]
  },
  {
   "cell_type": "code",
   "execution_count": null,
   "metadata": {},
   "outputs": [],
   "source": [
    "%%time\n",
    "\n",
    "df = drug_curves.copy()\n",
    "\n",
    "fitting_function = \"sigmoid_4_param\"\n",
    "filtration_name = \"no_filt\"\n",
    "\n",
    "df = ComputeFittingFunction(df, fitting_function, conc_columns, response_norm)\n",
    "\n",
    "merged_df = MergeDrugCells(df, cell_features, drug_features, \n",
    "                               splitting_needed= True,\n",
    "                               param_col_name = fitting_function)\n",
    "\n",
    "merged_df = merged_df[merged_df[\"sigmoid_4_param_r2\"]>0.9]\n",
    "\n",
    "new_folder = _FOLDER + filtration_name\n",
    "merged_df.to_csv(new_folder+\"/test_gdsc2.csv\")\n",
    "merged_df.shape[0]"
   ]
  },
  {
   "cell_type": "code",
   "execution_count": null,
   "metadata": {},
   "outputs": [],
   "source": [
    "merged_df"
   ]
  },
  {
   "cell_type": "code",
   "execution_count": null,
   "metadata": {},
   "outputs": [],
   "source": []
  }
 ],
 "metadata": {
  "kernelspec": {
   "display_name": "Python 3 (ipykernel)",
   "language": "python",
   "name": "python3"
  },
  "language_info": {
   "codemirror_mode": {
    "name": "ipython",
    "version": 3
   },
   "file_extension": ".py",
   "mimetype": "text/x-python",
   "name": "python",
   "nbconvert_exporter": "python",
   "pygments_lexer": "ipython3",
   "version": "3.11.2"
  }
 },
 "nbformat": 4,
 "nbformat_minor": 2
}
