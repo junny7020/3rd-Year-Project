{
 "cells": [
  {
   "cell_type": "markdown",
   "metadata": {},
   "source": [
    "## Fitting drug response curves with sigmoid function"
   ]
  },
  {
   "cell_type": "code",
   "execution_count": 4,
   "metadata": {},
   "outputs": [],
   "source": [
    "import pandas as pd\n",
    "import numpy as np\n",
    "from tqdm import tqdm\n",
    "import warnings\n",
    "warnings.filterwarnings(\"ignore\")\n",
    "import os, sys\n",
    "sys.path.insert(1, os.path.relpath(\"functions\"))\n",
    "from fitting import *\n",
    "from plotting import *\n",
    "R2_limit = 0.99\n",
    "\n",
    "_FOLDER = \"results/\"\n",
    "_FOLDER_2 = \"database/\""
   ]
  },
  {
   "cell_type": "markdown",
   "metadata": {},
   "source": [
    "## Fitting data"
   ]
  },
  {
   "cell_type": "code",
   "execution_count": 5,
   "metadata": {},
   "outputs": [
    {
     "data": {
      "text/plain": [
       "((14084, 31), (2108, 30), (225384, 44))"
      ]
     },
     "execution_count": 5,
     "metadata": {},
     "output_type": "execute_result"
    }
   ],
   "source": [
    "df_auc = pd.read_csv(_FOLDER+\"filt_auc_02.csv\")\n",
    "df_1234 = pd.read_csv(_FOLDER+\"filt_1234_02.csv\")\n",
    "drug_curves = pd.read_csv(_FOLDER_2+\"normalised_dose_response_data.csv\")\n",
    "conc_columns= [\"fd_num_\"+str(i) for i in range(10)]\n",
    "response_norm = ['norm_cells_'+str(i) for i in range(10)]\n",
    "\n",
    "df_auc.shape, df_1234.shape, drug_curves.shape"
   ]
  },
  {
   "cell_type": "code",
   "execution_count": 6,
   "metadata": {},
   "outputs": [],
   "source": [
    "functions = [\n",
    "    \"fsigmoid\", \n",
    "    \"sigmoid_2_param\",\n",
    "    \"sigmoid_3_param\",\n",
    "    \"sigmoid_4_param\",\n",
    "    \"logistic_4_param\",\n",
    "    \"ll4_4_param\",\n",
    "    \"ll4R_4_param\",\n",
    "    \"logLogist_3_param\"\n",
    "]"
   ]
  },
  {
   "cell_type": "code",
   "execution_count": 7,
   "metadata": {},
   "outputs": [],
   "source": [
    "def compare_fitting(df_raw, fitting_functions_list):\n",
    "    df_results = pd.DataFrame(columns= [\"R2>0.9\", \"R2>0.95\", \"R2>0.99\"])\n",
    "    for fitting_function in fitting_functions_list:\n",
    "        df = df_raw.copy()\n",
    "        print(\"\\n\", fitting_function)\n",
    "        r2, fit_param = fitting_column(df, df.index, x_columns=conc_columns, y_columns= response_norm,\n",
    "                               fitting_function = fitting_function, default_param=True)\n",
    "        df[fitting_function+\"_r2\"] = r2\n",
    "        df[fitting_function] = fit_param\n",
    "#         df= df[df[fitting_function+\"_r2\"]>0]\n",
    "        print(\"R2>0:\", df.shape)\n",
    "        print(\"R2>\", R2_limit, df[df[fitting_function+\"_r2\"]>R2_limit].shape[0])\n",
    "        df_results.loc[fitting_function, \"R2>0.9\"] = df[df[fitting_function+\"_r2\"]>0.9].shape[0]\n",
    "        df_results.loc[fitting_function, \"R2>0.95\"] = df[df[fitting_function+\"_r2\"]>0.95].shape[0]\n",
    "        df_results.loc[fitting_function, \"R2>0.99\"] = df[df[fitting_function+\"_r2\"]>0.99].shape[0]\n",
    "        print(\"Number of samples with fitting <0.1:\", df[df[fitting_function+\"_r2\"]<0.1].shape[0])\n",
    "        print(\"\")\n",
    "    return df, df_results"
   ]
  },
  {
   "cell_type": "code",
   "execution_count": 8,
   "metadata": {},
   "outputs": [
    {
     "name": "stdout",
     "output_type": "stream",
     "text": [
      "\n",
      " fsigmoid\n"
     ]
    },
    {
     "name": "stderr",
     "output_type": "stream",
     "text": [
      "100%|███████████████████████████████████████████████████████████████████████████| 14084/14084 [00:15<00:00, 907.74it/s]\n"
     ]
    },
    {
     "name": "stdout",
     "output_type": "stream",
     "text": [
      "<function fsigmoid at 0x0000020C7F7C8220>\n",
      "R2>0: (14084, 33)\n",
      "R2> 0.99 1423\n",
      "Number of samples with fitting <0.1: 26\n",
      "\n",
      "\n",
      " sigmoid_2_param\n"
     ]
    },
    {
     "name": "stderr",
     "output_type": "stream",
     "text": [
      "100%|██████████████████████████████████████████████████████████████████████████| 14084/14084 [00:13<00:00, 1018.07it/s]\n"
     ]
    },
    {
     "name": "stdout",
     "output_type": "stream",
     "text": [
      "<function sigmoid_2_param at 0x0000020C7F7C85E0>\n",
      "R2>0: (14084, 33)\n",
      "R2> 0.99 1409\n",
      "Number of samples with fitting <0.1: 12\n",
      "\n",
      "\n",
      " sigmoid_3_param\n"
     ]
    },
    {
     "name": "stderr",
     "output_type": "stream",
     "text": [
      "100%|███████████████████████████████████████████████████████████████████████████| 14084/14084 [00:23<00:00, 593.25it/s]\n"
     ]
    },
    {
     "name": "stdout",
     "output_type": "stream",
     "text": [
      "<function sigmoid_3_param at 0x0000020C7F7C8900>\n",
      "R2>0: (14084, 33)\n",
      "R2> 0.99 2507\n",
      "Number of samples with fitting <0.1: 41\n",
      "\n",
      "\n",
      " sigmoid_4_param\n"
     ]
    },
    {
     "name": "stderr",
     "output_type": "stream",
     "text": [
      "100%|███████████████████████████████████████████████████████████████████████████| 14084/14084 [02:08<00:00, 109.19it/s]\n"
     ]
    },
    {
     "name": "stdout",
     "output_type": "stream",
     "text": [
      "<function sigmoid_4_param at 0x0000020C7F7C89A0>\n",
      "R2>0: (14084, 33)\n",
      "R2> 0.99 3062\n",
      "Number of samples with fitting <0.1: 4755\n",
      "\n",
      "\n",
      " logistic_4_param\n"
     ]
    },
    {
     "name": "stderr",
     "output_type": "stream",
     "text": [
      "100%|███████████████████████████████████████████████████████████████████████████| 14084/14084 [01:38<00:00, 142.34it/s]\n"
     ]
    },
    {
     "name": "stdout",
     "output_type": "stream",
     "text": [
      "<function logistic_4_param at 0x0000020C7F7C8B80>\n",
      "R2>0: (14084, 33)\n",
      "R2> 0.99 3072\n",
      "Number of samples with fitting <0.1: 1758\n",
      "\n",
      "\n",
      " ll4_4_param\n"
     ]
    },
    {
     "name": "stderr",
     "output_type": "stream",
     "text": [
      "100%|████████████████████████████████████████████████████████████████████████████| 14084/14084 [02:21<00:00, 99.43it/s]\n"
     ]
    },
    {
     "name": "stdout",
     "output_type": "stream",
     "text": [
      "<function ll4_4_param at 0x0000020C7F7C8A40>\n",
      "R2>0: (14084, 33)\n",
      "R2> 0.99 3075\n",
      "Number of samples with fitting <0.1: 1813\n",
      "\n",
      "\n",
      " ll4R_4_param\n"
     ]
    },
    {
     "name": "stderr",
     "output_type": "stream",
     "text": [
      "100%|████████████████████████████████████████████████████████████████████████████| 14084/14084 [02:44<00:00, 85.70it/s]\n"
     ]
    },
    {
     "name": "stdout",
     "output_type": "stream",
     "text": [
      "<function ll4R_4_param at 0x0000020C7F7C8AE0>\n",
      "R2>0: (14084, 33)\n",
      "R2> 0.99 3014\n",
      "Number of samples with fitting <0.1: 2514\n",
      "\n",
      "\n",
      " logLogist_3_param\n"
     ]
    },
    {
     "name": "stderr",
     "output_type": "stream",
     "text": [
      "100%|███████████████████████████████████████████████████████████████████████████| 14084/14084 [01:09<00:00, 201.52it/s]\n"
     ]
    },
    {
     "name": "stdout",
     "output_type": "stream",
     "text": [
      "<function logLogist_3_param at 0x0000020C7F7C8C20>\n",
      "R2>0: (14084, 33)\n",
      "R2> 0.99 2914\n",
      "Number of samples with fitting <0.1: 458\n",
      "\n",
      "CPU times: total: 11min 1s\n",
      "Wall time: 10min 58s\n"
     ]
    }
   ],
   "source": [
    "%%time\n",
    "df, df_results = compare_fitting(df_auc, functions)\n",
    "df_results.to_csv(_FOLDER+\"fit_auc_02_compare.csv\", index=False)\n",
    "df.to_csv(_FOLDER+\"filt_auc_02_fit.csv\", index=False)"
   ]
  },
  {
   "cell_type": "code",
   "execution_count": 9,
   "metadata": {},
   "outputs": [
    {
     "name": "stdout",
     "output_type": "stream",
     "text": [
      "\n",
      " fsigmoid\n"
     ]
    },
    {
     "name": "stderr",
     "output_type": "stream",
     "text": [
      "100%|████████████████████████████████████████████████████████████████████████████| 2108/2108 [00:01<00:00, 1204.35it/s]\n"
     ]
    },
    {
     "name": "stdout",
     "output_type": "stream",
     "text": [
      "<function fsigmoid at 0x0000020C7F7C8220>\n",
      "R2>0: (2108, 32)\n",
      "R2> 0.99 921\n",
      "Number of samples with fitting <0.1: 0\n",
      "\n",
      "\n",
      " sigmoid_2_param\n"
     ]
    },
    {
     "name": "stderr",
     "output_type": "stream",
     "text": [
      "100%|████████████████████████████████████████████████████████████████████████████| 2108/2108 [00:01<00:00, 1279.44it/s]\n"
     ]
    },
    {
     "name": "stdout",
     "output_type": "stream",
     "text": [
      "<function sigmoid_2_param at 0x0000020C7F7C85E0>\n",
      "R2>0: (2108, 32)\n",
      "R2> 0.99 921\n",
      "Number of samples with fitting <0.1: 0\n",
      "\n",
      "\n",
      " sigmoid_3_param\n"
     ]
    },
    {
     "name": "stderr",
     "output_type": "stream",
     "text": [
      "100%|█████████████████████████████████████████████████████████████████████████████| 2108/2108 [00:02<00:00, 756.22it/s]\n"
     ]
    },
    {
     "name": "stdout",
     "output_type": "stream",
     "text": [
      "<function sigmoid_3_param at 0x0000020C7F7C8900>\n",
      "R2>0: (2108, 32)\n",
      "R2> 0.99 1220\n",
      "Number of samples with fitting <0.1: 0\n",
      "\n",
      "\n",
      " sigmoid_4_param\n"
     ]
    },
    {
     "name": "stderr",
     "output_type": "stream",
     "text": [
      "100%|█████████████████████████████████████████████████████████████████████████████| 2108/2108 [00:03<00:00, 666.34it/s]\n"
     ]
    },
    {
     "name": "stdout",
     "output_type": "stream",
     "text": [
      "<function sigmoid_4_param at 0x0000020C7F7C89A0>\n",
      "R2>0: (2108, 32)\n",
      "R2> 0.99 1527\n",
      "Number of samples with fitting <0.1: 63\n",
      "\n",
      "\n",
      " logistic_4_param\n"
     ]
    },
    {
     "name": "stderr",
     "output_type": "stream",
     "text": [
      "100%|█████████████████████████████████████████████████████████████████████████████| 2108/2108 [00:02<00:00, 704.55it/s]\n"
     ]
    },
    {
     "name": "stdout",
     "output_type": "stream",
     "text": [
      "<function logistic_4_param at 0x0000020C7F7C8B80>\n",
      "R2>0: (2108, 32)\n",
      "R2> 0.99 1473\n",
      "Number of samples with fitting <0.1: 0\n",
      "\n",
      "\n",
      " ll4_4_param\n"
     ]
    },
    {
     "name": "stderr",
     "output_type": "stream",
     "text": [
      "100%|█████████████████████████████████████████████████████████████████████████████| 2108/2108 [00:03<00:00, 541.54it/s]\n"
     ]
    },
    {
     "name": "stdout",
     "output_type": "stream",
     "text": [
      "<function ll4_4_param at 0x0000020C7F7C8A40>\n",
      "R2>0: (2108, 32)\n",
      "R2> 0.99 1473\n",
      "Number of samples with fitting <0.1: 0\n",
      "\n",
      "\n",
      " ll4R_4_param\n"
     ]
    },
    {
     "name": "stderr",
     "output_type": "stream",
     "text": [
      "100%|█████████████████████████████████████████████████████████████████████████████| 2108/2108 [00:04<00:00, 452.60it/s]\n"
     ]
    },
    {
     "name": "stdout",
     "output_type": "stream",
     "text": [
      "<function ll4R_4_param at 0x0000020C7F7C8AE0>\n",
      "R2>0: (2108, 32)\n",
      "R2> 0.99 1473\n",
      "Number of samples with fitting <0.1: 19\n",
      "\n",
      "\n",
      " logLogist_3_param\n"
     ]
    },
    {
     "name": "stderr",
     "output_type": "stream",
     "text": [
      "100%|█████████████████████████████████████████████████████████████████████████████| 2108/2108 [00:03<00:00, 555.64it/s]\n"
     ]
    },
    {
     "name": "stdout",
     "output_type": "stream",
     "text": [
      "<function logLogist_3_param at 0x0000020C7F7C8C20>\n",
      "R2>0: (2108, 32)\n",
      "R2> 0.99 1465\n",
      "Number of samples with fitting <0.1: 0\n",
      "\n",
      "CPU times: total: 25.2 s\n",
      "Wall time: 25 s\n"
     ]
    }
   ],
   "source": [
    "%%time\n",
    "df, df_results_2 = compare_fitting(df_1234, functions)\n",
    "df_results_2.to_csv(_FOLDER+\"fit_1234_compare.csv\", index=False)\n",
    "df.to_csv(_FOLDER+\"filt_1234_fit.csv\", index=False)"
   ]
  },
  {
   "cell_type": "code",
   "execution_count": 10,
   "metadata": {},
   "outputs": [
    {
     "name": "stdout",
     "output_type": "stream",
     "text": [
      "\n",
      " fsigmoid\n"
     ]
    },
    {
     "name": "stderr",
     "output_type": "stream",
     "text": [
      "100%|█████████████████████████████████████████████████████████████████████████| 225384/225384 [04:48<00:00, 781.67it/s]\n"
     ]
    },
    {
     "name": "stdout",
     "output_type": "stream",
     "text": [
      "<function fsigmoid at 0x0000020C7F7C8220>\n",
      "R2>0: (225384, 46)\n",
      "R2> 0.99 6638\n",
      "Number of samples with fitting <0.1: 85750\n",
      "\n",
      "\n",
      " sigmoid_2_param\n"
     ]
    },
    {
     "name": "stderr",
     "output_type": "stream",
     "text": [
      "100%|█████████████████████████████████████████████████████████████████████████| 225384/225384 [03:58<00:00, 943.25it/s]\n"
     ]
    },
    {
     "name": "stdout",
     "output_type": "stream",
     "text": [
      "<function sigmoid_2_param at 0x0000020C7F7C85E0>\n",
      "R2>0: (225384, 46)\n",
      "R2> 0.99 6613\n",
      "Number of samples with fitting <0.1: 88011\n",
      "\n",
      "\n",
      " sigmoid_3_param\n"
     ]
    },
    {
     "name": "stderr",
     "output_type": "stream",
     "text": [
      "100%|█████████████████████████████████████████████████████████████████████████| 225384/225384 [07:48<00:00, 481.28it/s]\n"
     ]
    },
    {
     "name": "stdout",
     "output_type": "stream",
     "text": [
      "<function sigmoid_3_param at 0x0000020C7F7C8900>\n",
      "R2>0: (225384, 46)\n",
      "R2> 0.99 11402\n",
      "Number of samples with fitting <0.1: 49691\n",
      "\n",
      "\n",
      " sigmoid_4_param\n"
     ]
    },
    {
     "name": "stderr",
     "output_type": "stream",
     "text": [
      "100%|█████████████████████████████████████████████████████████████████████████| 225384/225384 [28:14<00:00, 133.04it/s]\n"
     ]
    },
    {
     "name": "stdout",
     "output_type": "stream",
     "text": [
      "<function sigmoid_4_param at 0x0000020C7F7C89A0>\n",
      "R2>0: (225384, 46)\n",
      "R2> 0.99 15169\n",
      "Number of samples with fitting <0.1: 123795\n",
      "\n",
      "\n",
      " logistic_4_param\n"
     ]
    },
    {
     "name": "stderr",
     "output_type": "stream",
     "text": [
      "100%|█████████████████████████████████████████████████████████████████████████| 225384/225384 [19:55<00:00, 188.60it/s]\n"
     ]
    },
    {
     "name": "stdout",
     "output_type": "stream",
     "text": [
      "<function logistic_4_param at 0x0000020C7F7C8B80>\n",
      "R2>0: (225384, 46)\n",
      "R2> 0.99 16756\n",
      "Number of samples with fitting <0.1: 68138\n",
      "\n",
      "\n",
      " ll4_4_param\n"
     ]
    },
    {
     "name": "stderr",
     "output_type": "stream",
     "text": [
      "100%|█████████████████████████████████████████████████████████████████████████| 225384/225384 [34:34<00:00, 108.62it/s]\n"
     ]
    },
    {
     "name": "stdout",
     "output_type": "stream",
     "text": [
      "<function ll4_4_param at 0x0000020C7F7C8A40>\n",
      "R2>0: (225384, 46)\n",
      "R2> 0.99 17072\n",
      "Number of samples with fitting <0.1: 69514\n",
      "\n",
      "\n",
      " ll4R_4_param\n"
     ]
    },
    {
     "name": "stderr",
     "output_type": "stream",
     "text": [
      "100%|█████████████████████████████████████████████████████████████████████████| 225384/225384 [36:38<00:00, 102.50it/s]\n"
     ]
    },
    {
     "name": "stdout",
     "output_type": "stream",
     "text": [
      "<function ll4R_4_param at 0x0000020C7F7C8AE0>\n",
      "R2>0: (225384, 46)\n",
      "R2> 0.99 16614\n",
      "Number of samples with fitting <0.1: 75034\n",
      "\n",
      "\n",
      " logLogist_3_param\n"
     ]
    },
    {
     "name": "stderr",
     "output_type": "stream",
     "text": [
      "100%|█████████████████████████████████████████████████████████████████████████| 225384/225384 [19:02<00:00, 197.23it/s]\n"
     ]
    },
    {
     "name": "stdout",
     "output_type": "stream",
     "text": [
      "<function logLogist_3_param at 0x0000020C7F7C8C20>\n",
      "R2>0: (225384, 46)\n",
      "R2> 0.99 16218\n",
      "Number of samples with fitting <0.1: 90639\n",
      "\n",
      "CPU times: total: 2h 35min 39s\n",
      "Wall time: 2h 35min 29s\n"
     ]
    }
   ],
   "source": [
    "%%time\n",
    "df, df_results_3 = compare_fitting(drug_curves, functions)\n",
    "df_results_3.to_csv(_FOLDER+\"fit_no_filt_compare.csv\", index=False)\n",
    "df.to_csv(_FOLDER+\"filt_fit.csv\", index=False)"
   ]
  },
  {
   "cell_type": "code",
   "execution_count": null,
   "metadata": {},
   "outputs": [],
   "source": [
    "df_results"
   ]
  },
  {
   "cell_type": "code",
   "execution_count": 11,
   "metadata": {},
   "outputs": [
    {
     "data": {
      "text/html": [
       "<div>\n",
       "<style scoped>\n",
       "    .dataframe tbody tr th:only-of-type {\n",
       "        vertical-align: middle;\n",
       "    }\n",
       "\n",
       "    .dataframe tbody tr th {\n",
       "        vertical-align: top;\n",
       "    }\n",
       "\n",
       "    .dataframe thead th {\n",
       "        text-align: right;\n",
       "    }\n",
       "</style>\n",
       "<table border=\"1\" class=\"dataframe\">\n",
       "  <thead>\n",
       "    <tr style=\"text-align: right;\">\n",
       "      <th></th>\n",
       "      <th>R2&gt;0.9</th>\n",
       "      <th>R2&gt;0.95</th>\n",
       "      <th>R2&gt;0.99</th>\n",
       "    </tr>\n",
       "  </thead>\n",
       "  <tbody>\n",
       "    <tr>\n",
       "      <th>sigmoid_2_param</th>\n",
       "      <td>10372</td>\n",
       "      <td>7236</td>\n",
       "      <td>1409</td>\n",
       "    </tr>\n",
       "    <tr>\n",
       "      <th>fsigmoid</th>\n",
       "      <td>10392</td>\n",
       "      <td>7277</td>\n",
       "      <td>1423</td>\n",
       "    </tr>\n",
       "    <tr>\n",
       "      <th>sigmoid_3_param</th>\n",
       "      <td>11991</td>\n",
       "      <td>9376</td>\n",
       "      <td>2507</td>\n",
       "    </tr>\n",
       "    <tr>\n",
       "      <th>logLogist_3_param</th>\n",
       "      <td>11714</td>\n",
       "      <td>9452</td>\n",
       "      <td>2914</td>\n",
       "    </tr>\n",
       "    <tr>\n",
       "      <th>ll4R_4_param</th>\n",
       "      <td>10015</td>\n",
       "      <td>8130</td>\n",
       "      <td>3014</td>\n",
       "    </tr>\n",
       "    <tr>\n",
       "      <th>sigmoid_4_param</th>\n",
       "      <td>8521</td>\n",
       "      <td>7466</td>\n",
       "      <td>3062</td>\n",
       "    </tr>\n",
       "    <tr>\n",
       "      <th>logistic_4_param</th>\n",
       "      <td>10744</td>\n",
       "      <td>8739</td>\n",
       "      <td>3072</td>\n",
       "    </tr>\n",
       "    <tr>\n",
       "      <th>ll4_4_param</th>\n",
       "      <td>10698</td>\n",
       "      <td>8706</td>\n",
       "      <td>3075</td>\n",
       "    </tr>\n",
       "  </tbody>\n",
       "</table>\n",
       "</div>"
      ],
      "text/plain": [
       "                  R2>0.9 R2>0.95 R2>0.99\n",
       "sigmoid_2_param    10372    7236    1409\n",
       "fsigmoid           10392    7277    1423\n",
       "sigmoid_3_param    11991    9376    2507\n",
       "logLogist_3_param  11714    9452    2914\n",
       "ll4R_4_param       10015    8130    3014\n",
       "sigmoid_4_param     8521    7466    3062\n",
       "logistic_4_param   10744    8739    3072\n",
       "ll4_4_param        10698    8706    3075"
      ]
     },
     "execution_count": 11,
     "metadata": {},
     "output_type": "execute_result"
    }
   ],
   "source": [
    "df_results.sort_values(\"R2>0.99\")"
   ]
  },
  {
   "cell_type": "code",
   "execution_count": 12,
   "metadata": {},
   "outputs": [
    {
     "data": {
      "text/html": [
       "<div>\n",
       "<style scoped>\n",
       "    .dataframe tbody tr th:only-of-type {\n",
       "        vertical-align: middle;\n",
       "    }\n",
       "\n",
       "    .dataframe tbody tr th {\n",
       "        vertical-align: top;\n",
       "    }\n",
       "\n",
       "    .dataframe thead th {\n",
       "        text-align: right;\n",
       "    }\n",
       "</style>\n",
       "<table border=\"1\" class=\"dataframe\">\n",
       "  <thead>\n",
       "    <tr style=\"text-align: right;\">\n",
       "      <th></th>\n",
       "      <th>R2&gt;0.9</th>\n",
       "      <th>R2&gt;0.95</th>\n",
       "      <th>R2&gt;0.99</th>\n",
       "    </tr>\n",
       "  </thead>\n",
       "  <tbody>\n",
       "    <tr>\n",
       "      <th>fsigmoid</th>\n",
       "      <td>2058</td>\n",
       "      <td>1874</td>\n",
       "      <td>921</td>\n",
       "    </tr>\n",
       "    <tr>\n",
       "      <th>sigmoid_2_param</th>\n",
       "      <td>2058</td>\n",
       "      <td>1874</td>\n",
       "      <td>921</td>\n",
       "    </tr>\n",
       "    <tr>\n",
       "      <th>sigmoid_3_param</th>\n",
       "      <td>2098</td>\n",
       "      <td>2031</td>\n",
       "      <td>1220</td>\n",
       "    </tr>\n",
       "    <tr>\n",
       "      <th>sigmoid_4_param</th>\n",
       "      <td>2045</td>\n",
       "      <td>2017</td>\n",
       "      <td>1527</td>\n",
       "    </tr>\n",
       "    <tr>\n",
       "      <th>logistic_4_param</th>\n",
       "      <td>2103</td>\n",
       "      <td>2063</td>\n",
       "      <td>1473</td>\n",
       "    </tr>\n",
       "    <tr>\n",
       "      <th>ll4_4_param</th>\n",
       "      <td>2103</td>\n",
       "      <td>2063</td>\n",
       "      <td>1473</td>\n",
       "    </tr>\n",
       "    <tr>\n",
       "      <th>ll4R_4_param</th>\n",
       "      <td>2085</td>\n",
       "      <td>2056</td>\n",
       "      <td>1473</td>\n",
       "    </tr>\n",
       "    <tr>\n",
       "      <th>logLogist_3_param</th>\n",
       "      <td>2100</td>\n",
       "      <td>2051</td>\n",
       "      <td>1465</td>\n",
       "    </tr>\n",
       "  </tbody>\n",
       "</table>\n",
       "</div>"
      ],
      "text/plain": [
       "                  R2>0.9 R2>0.95 R2>0.99\n",
       "fsigmoid            2058    1874     921\n",
       "sigmoid_2_param     2058    1874     921\n",
       "sigmoid_3_param     2098    2031    1220\n",
       "sigmoid_4_param     2045    2017    1527\n",
       "logistic_4_param    2103    2063    1473\n",
       "ll4_4_param         2103    2063    1473\n",
       "ll4R_4_param        2085    2056    1473\n",
       "logLogist_3_param   2100    2051    1465"
      ]
     },
     "execution_count": 12,
     "metadata": {},
     "output_type": "execute_result"
    }
   ],
   "source": [
    "df_results_2"
   ]
  },
  {
   "cell_type": "code",
   "execution_count": 13,
   "metadata": {},
   "outputs": [
    {
     "data": {
      "text/html": [
       "<div>\n",
       "<style scoped>\n",
       "    .dataframe tbody tr th:only-of-type {\n",
       "        vertical-align: middle;\n",
       "    }\n",
       "\n",
       "    .dataframe tbody tr th {\n",
       "        vertical-align: top;\n",
       "    }\n",
       "\n",
       "    .dataframe thead th {\n",
       "        text-align: right;\n",
       "    }\n",
       "</style>\n",
       "<table border=\"1\" class=\"dataframe\">\n",
       "  <thead>\n",
       "    <tr style=\"text-align: right;\">\n",
       "      <th></th>\n",
       "      <th>R2&gt;0.9</th>\n",
       "      <th>R2&gt;0.95</th>\n",
       "      <th>R2&gt;0.99</th>\n",
       "    </tr>\n",
       "  </thead>\n",
       "  <tbody>\n",
       "    <tr>\n",
       "      <th>fsigmoid</th>\n",
       "      <td>2058</td>\n",
       "      <td>1874</td>\n",
       "      <td>921</td>\n",
       "    </tr>\n",
       "    <tr>\n",
       "      <th>sigmoid_2_param</th>\n",
       "      <td>2058</td>\n",
       "      <td>1874</td>\n",
       "      <td>921</td>\n",
       "    </tr>\n",
       "    <tr>\n",
       "      <th>sigmoid_3_param</th>\n",
       "      <td>2098</td>\n",
       "      <td>2031</td>\n",
       "      <td>1220</td>\n",
       "    </tr>\n",
       "    <tr>\n",
       "      <th>logLogist_3_param</th>\n",
       "      <td>2100</td>\n",
       "      <td>2051</td>\n",
       "      <td>1465</td>\n",
       "    </tr>\n",
       "    <tr>\n",
       "      <th>logistic_4_param</th>\n",
       "      <td>2103</td>\n",
       "      <td>2063</td>\n",
       "      <td>1473</td>\n",
       "    </tr>\n",
       "    <tr>\n",
       "      <th>ll4_4_param</th>\n",
       "      <td>2103</td>\n",
       "      <td>2063</td>\n",
       "      <td>1473</td>\n",
       "    </tr>\n",
       "    <tr>\n",
       "      <th>ll4R_4_param</th>\n",
       "      <td>2085</td>\n",
       "      <td>2056</td>\n",
       "      <td>1473</td>\n",
       "    </tr>\n",
       "    <tr>\n",
       "      <th>sigmoid_4_param</th>\n",
       "      <td>2045</td>\n",
       "      <td>2017</td>\n",
       "      <td>1527</td>\n",
       "    </tr>\n",
       "  </tbody>\n",
       "</table>\n",
       "</div>"
      ],
      "text/plain": [
       "                  R2>0.9 R2>0.95 R2>0.99\n",
       "fsigmoid            2058    1874     921\n",
       "sigmoid_2_param     2058    1874     921\n",
       "sigmoid_3_param     2098    2031    1220\n",
       "logLogist_3_param   2100    2051    1465\n",
       "logistic_4_param    2103    2063    1473\n",
       "ll4_4_param         2103    2063    1473\n",
       "ll4R_4_param        2085    2056    1473\n",
       "sigmoid_4_param     2045    2017    1527"
      ]
     },
     "execution_count": 13,
     "metadata": {},
     "output_type": "execute_result"
    }
   ],
   "source": [
    "df_results_2.sort_values(\"R2>0.99\")"
   ]
  },
  {
   "cell_type": "code",
   "execution_count": 14,
   "metadata": {},
   "outputs": [
    {
     "data": {
      "text/html": [
       "<div>\n",
       "<style scoped>\n",
       "    .dataframe tbody tr th:only-of-type {\n",
       "        vertical-align: middle;\n",
       "    }\n",
       "\n",
       "    .dataframe tbody tr th {\n",
       "        vertical-align: top;\n",
       "    }\n",
       "\n",
       "    .dataframe thead th {\n",
       "        text-align: right;\n",
       "    }\n",
       "</style>\n",
       "<table border=\"1\" class=\"dataframe\">\n",
       "  <thead>\n",
       "    <tr style=\"text-align: right;\">\n",
       "      <th></th>\n",
       "      <th>R2&gt;0.9</th>\n",
       "      <th>R2&gt;0.95</th>\n",
       "      <th>R2&gt;0.99</th>\n",
       "    </tr>\n",
       "  </thead>\n",
       "  <tbody>\n",
       "    <tr>\n",
       "      <th>fsigmoid</th>\n",
       "      <td>53091</td>\n",
       "      <td>32241</td>\n",
       "      <td>6638</td>\n",
       "    </tr>\n",
       "    <tr>\n",
       "      <th>sigmoid_2_param</th>\n",
       "      <td>53063</td>\n",
       "      <td>32194</td>\n",
       "      <td>6613</td>\n",
       "    </tr>\n",
       "    <tr>\n",
       "      <th>sigmoid_3_param</th>\n",
       "      <td>70557</td>\n",
       "      <td>46861</td>\n",
       "      <td>11402</td>\n",
       "    </tr>\n",
       "    <tr>\n",
       "      <th>sigmoid_4_param</th>\n",
       "      <td>53846</td>\n",
       "      <td>42088</td>\n",
       "      <td>15169</td>\n",
       "    </tr>\n",
       "    <tr>\n",
       "      <th>logistic_4_param</th>\n",
       "      <td>73125</td>\n",
       "      <td>52855</td>\n",
       "      <td>16756</td>\n",
       "    </tr>\n",
       "    <tr>\n",
       "      <th>ll4_4_param</th>\n",
       "      <td>73134</td>\n",
       "      <td>53103</td>\n",
       "      <td>17072</td>\n",
       "    </tr>\n",
       "    <tr>\n",
       "      <th>ll4R_4_param</th>\n",
       "      <td>67848</td>\n",
       "      <td>49454</td>\n",
       "      <td>16614</td>\n",
       "    </tr>\n",
       "    <tr>\n",
       "      <th>logLogist_3_param</th>\n",
       "      <td>72883</td>\n",
       "      <td>53643</td>\n",
       "      <td>16218</td>\n",
       "    </tr>\n",
       "  </tbody>\n",
       "</table>\n",
       "</div>"
      ],
      "text/plain": [
       "                  R2>0.9 R2>0.95 R2>0.99\n",
       "fsigmoid           53091   32241    6638\n",
       "sigmoid_2_param    53063   32194    6613\n",
       "sigmoid_3_param    70557   46861   11402\n",
       "sigmoid_4_param    53846   42088   15169\n",
       "logistic_4_param   73125   52855   16756\n",
       "ll4_4_param        73134   53103   17072\n",
       "ll4R_4_param       67848   49454   16614\n",
       "logLogist_3_param  72883   53643   16218"
      ]
     },
     "execution_count": 14,
     "metadata": {},
     "output_type": "execute_result"
    }
   ],
   "source": [
    "df_results_3"
   ]
  },
  {
   "cell_type": "code",
   "execution_count": 15,
   "metadata": {},
   "outputs": [
    {
     "data": {
      "text/html": [
       "<div>\n",
       "<style scoped>\n",
       "    .dataframe tbody tr th:only-of-type {\n",
       "        vertical-align: middle;\n",
       "    }\n",
       "\n",
       "    .dataframe tbody tr th {\n",
       "        vertical-align: top;\n",
       "    }\n",
       "\n",
       "    .dataframe thead th {\n",
       "        text-align: right;\n",
       "    }\n",
       "</style>\n",
       "<table border=\"1\" class=\"dataframe\">\n",
       "  <thead>\n",
       "    <tr style=\"text-align: right;\">\n",
       "      <th></th>\n",
       "      <th>R2&gt;0.9</th>\n",
       "      <th>R2&gt;0.95</th>\n",
       "      <th>R2&gt;0.99</th>\n",
       "    </tr>\n",
       "  </thead>\n",
       "  <tbody>\n",
       "    <tr>\n",
       "      <th>sigmoid_2_param</th>\n",
       "      <td>53063</td>\n",
       "      <td>32194</td>\n",
       "      <td>6613</td>\n",
       "    </tr>\n",
       "    <tr>\n",
       "      <th>fsigmoid</th>\n",
       "      <td>53091</td>\n",
       "      <td>32241</td>\n",
       "      <td>6638</td>\n",
       "    </tr>\n",
       "    <tr>\n",
       "      <th>sigmoid_3_param</th>\n",
       "      <td>70557</td>\n",
       "      <td>46861</td>\n",
       "      <td>11402</td>\n",
       "    </tr>\n",
       "    <tr>\n",
       "      <th>sigmoid_4_param</th>\n",
       "      <td>53846</td>\n",
       "      <td>42088</td>\n",
       "      <td>15169</td>\n",
       "    </tr>\n",
       "    <tr>\n",
       "      <th>logLogist_3_param</th>\n",
       "      <td>72883</td>\n",
       "      <td>53643</td>\n",
       "      <td>16218</td>\n",
       "    </tr>\n",
       "    <tr>\n",
       "      <th>ll4R_4_param</th>\n",
       "      <td>67848</td>\n",
       "      <td>49454</td>\n",
       "      <td>16614</td>\n",
       "    </tr>\n",
       "    <tr>\n",
       "      <th>logistic_4_param</th>\n",
       "      <td>73125</td>\n",
       "      <td>52855</td>\n",
       "      <td>16756</td>\n",
       "    </tr>\n",
       "    <tr>\n",
       "      <th>ll4_4_param</th>\n",
       "      <td>73134</td>\n",
       "      <td>53103</td>\n",
       "      <td>17072</td>\n",
       "    </tr>\n",
       "  </tbody>\n",
       "</table>\n",
       "</div>"
      ],
      "text/plain": [
       "                  R2>0.9 R2>0.95 R2>0.99\n",
       "sigmoid_2_param    53063   32194    6613\n",
       "fsigmoid           53091   32241    6638\n",
       "sigmoid_3_param    70557   46861   11402\n",
       "sigmoid_4_param    53846   42088   15169\n",
       "logLogist_3_param  72883   53643   16218\n",
       "ll4R_4_param       67848   49454   16614\n",
       "logistic_4_param   73125   52855   16756\n",
       "ll4_4_param        73134   53103   17072"
      ]
     },
     "execution_count": 15,
     "metadata": {},
     "output_type": "execute_result"
    }
   ],
   "source": [
    "df_results_3.sort_values(\"R2>0.99\")"
   ]
  },
  {
   "cell_type": "code",
   "execution_count": null,
   "metadata": {},
   "outputs": [],
   "source": []
  }
 ],
 "metadata": {
  "kernelspec": {
   "display_name": "Python 3 (ipykernel)",
   "language": "python",
   "name": "python3"
  },
  "language_info": {
   "codemirror_mode": {
    "name": "ipython",
    "version": 3
   },
   "file_extension": ".py",
   "mimetype": "text/x-python",
   "name": "python",
   "nbconvert_exporter": "python",
   "pygments_lexer": "ipython3",
   "version": "3.11.2"
  }
 },
 "nbformat": 4,
 "nbformat_minor": 2
}
